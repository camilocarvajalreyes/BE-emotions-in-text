{
 "cells": [
  {
   "cell_type": "markdown",
   "metadata": {},
   "source": [
    "# Emotions analysis of written text\n",
    "Author: Camilo"
   ]
  },
  {
   "cell_type": "code",
   "execution_count": null,
   "metadata": {},
   "outputs": [],
   "source": [
    "load_pre_trained = True"
   ]
  },
  {
   "cell_type": "markdown",
   "metadata": {},
   "source": [
    "**Warning**: If load pretrained is set to false then be prepared for a long training session (~6 hours for 20000 epochs)"
   ]
  },
  {
   "cell_type": "markdown",
   "metadata": {},
   "source": [
    "## Data set\n",
    "We load the [EmoBank data set](https://github.com/JULIELab/EmoBank)\n",
    "\n",
    "Sven Buechel and Udo Hahn. 2017. EmoBank: Studying the Impact of Annotation Perspective and Representation Format on Dimensional Emotion Analysis. In EACL 2017 - Proceedings of the 15th Conference of the European Chapter of the Association for Computational Linguistics. Valencia, Spain, April 3-7, 2017. Volume 2, Short Papers, pages 578-585. Available: http://aclweb.org/anthology/E17-2092\n",
    "\n",
    "Sven Buechel and Udo Hahn. 2017. Readers vs. writers vs. texts: Coping with different perspectives of text understanding in emotion annotation. In LAW 2017 - Proceedings of the 11th Linguistic Annotation Workshop @ EACL 2017. Valencia, Spain, April 3, 2017, pages 1-12. Available: https://sigann.github.io/LAW-XI-2017/papers/LAW01.pdf"
   ]
  },
  {
   "cell_type": "code",
   "execution_count": 1,
   "metadata": {},
   "outputs": [],
   "source": [
    "import pandas as pd\n",
    "import matplotlib.pyplot as plt\n",
    "import numpy as np\n",
    "import warnings\n",
    "warnings.filterwarnings(\"ignore\")"
   ]
  },
  {
   "cell_type": "code",
   "execution_count": 2,
   "metadata": {},
   "outputs": [
    {
     "data": {
      "text/html": [
       "<div>\n",
       "<style scoped>\n",
       "    .dataframe tbody tr th:only-of-type {\n",
       "        vertical-align: middle;\n",
       "    }\n",
       "\n",
       "    .dataframe tbody tr th {\n",
       "        vertical-align: top;\n",
       "    }\n",
       "\n",
       "    .dataframe thead th {\n",
       "        text-align: right;\n",
       "    }\n",
       "</style>\n",
       "<table border=\"1\" class=\"dataframe\">\n",
       "  <thead>\n",
       "    <tr style=\"text-align: right;\">\n",
       "      <th></th>\n",
       "      <th>split</th>\n",
       "      <th>V</th>\n",
       "      <th>A</th>\n",
       "      <th>D</th>\n",
       "      <th>text</th>\n",
       "    </tr>\n",
       "  </thead>\n",
       "  <tbody>\n",
       "    <tr>\n",
       "      <th>0</th>\n",
       "      <td>train</td>\n",
       "      <td>3.00</td>\n",
       "      <td>3.00</td>\n",
       "      <td>3.20</td>\n",
       "      <td>Remember what she said in my last letter? \"</td>\n",
       "    </tr>\n",
       "    <tr>\n",
       "      <th>1</th>\n",
       "      <td>test</td>\n",
       "      <td>2.80</td>\n",
       "      <td>3.10</td>\n",
       "      <td>2.80</td>\n",
       "      <td>If I wasn't working here.</td>\n",
       "    </tr>\n",
       "    <tr>\n",
       "      <th>2</th>\n",
       "      <td>train</td>\n",
       "      <td>3.00</td>\n",
       "      <td>3.00</td>\n",
       "      <td>3.00</td>\n",
       "      <td>..\"</td>\n",
       "    </tr>\n",
       "    <tr>\n",
       "      <th>3</th>\n",
       "      <td>train</td>\n",
       "      <td>3.44</td>\n",
       "      <td>3.00</td>\n",
       "      <td>3.22</td>\n",
       "      <td>Goodwill helps people get off of public assistance.</td>\n",
       "    </tr>\n",
       "    <tr>\n",
       "      <th>4</th>\n",
       "      <td>train</td>\n",
       "      <td>3.55</td>\n",
       "      <td>3.27</td>\n",
       "      <td>3.46</td>\n",
       "      <td>Sherry learned through our Future Works class that she could rise out of the mire of the welfare system and support ...</td>\n",
       "    </tr>\n",
       "  </tbody>\n",
       "</table>\n",
       "</div>"
      ],
      "text/plain": [
       "   split     V     A     D  \\\n",
       "0  train  3.00  3.00  3.20   \n",
       "1   test  2.80  3.10  2.80   \n",
       "2  train  3.00  3.00  3.00   \n",
       "3  train  3.44  3.00  3.22   \n",
       "4  train  3.55  3.27  3.46   \n",
       "\n",
       "                                                                                                                      text  \n",
       "0                                                                              Remember what she said in my last letter? \"  \n",
       "1                                                                                                If I wasn't working here.  \n",
       "2                                                                                                                      ..\"  \n",
       "3                                                                      Goodwill helps people get off of public assistance.  \n",
       "4  Sherry learned through our Future Works class that she could rise out of the mire of the welfare system and support ...  "
      ]
     },
     "execution_count": 2,
     "metadata": {},
     "output_type": "execute_result"
    }
   ],
   "source": [
    "eb = pd.read_csv(\"C:\\\\Users\\\\fast\\\\camilo\\\\ST7\\\\EmoBank-master\\\\corpus\\\\emobank.csv\")\n",
    "pd.set_option('max_colwidth', 120)\n",
    "eb = eb.drop(['id'], axis=1)\n",
    "eb.head()"
   ]
  },
  {
   "cell_type": "markdown",
   "metadata": {},
   "source": [
    "### Some data exploration"
   ]
  },
  {
   "cell_type": "code",
   "execution_count": 3,
   "metadata": {},
   "outputs": [
    {
     "name": "stdout",
     "output_type": "stream",
     "text": [
      "Histograms of Valence, Arousal and Dominance respectively\n"
     ]
    },
    {
     "data": {
      "image/png": "[encoded data removed]",
      "text/plain": [
       "<Figure size 1152x216 with 3 Axes>"
      ]
     },
     "metadata": {
      "needs_background": "light"
     },
     "output_type": "display_data"
    }
   ],
   "source": [
    "print('Histograms of Valence, Arousal and Dominance respectively')\n",
    "valence, arousal, dominance = eb['V'], eb['A'], eb['D']\n",
    "VAR = [valence, arousal, dominance]\n",
    "fig, axes = plt.subplots(1,3,figsize=(16,3))\n",
    "for i, ax in enumerate(axes.flat):\n",
    "    ax.hist(VAR[i], bins=50) "
   ]
  },
  {
   "cell_type": "markdown",
   "metadata": {},
   "source": [
    "## NRC VAD lexicon\n",
    "\n",
    "[Lexicon from Saif M. Mohammad](http://www.saifmohammad.com/WebPages/lexicons.html)\n",
    "\n",
    "Obtaining Reliable Human Ratings of Valence, Arousal, and Dominance for 20,000 English Words. Saif M. Mohammad. In Proceedings of the 56th Annual Meeting of the Association for Computational Linguistics, Melbourne, Australia, July 2018."
   ]
  },
  {
   "cell_type": "code",
   "execution_count": 4,
   "metadata": {},
   "outputs": [
    {
     "data": {
      "text/html": [
       "<div>\n",
       "<style scoped>\n",
       "    .dataframe tbody tr th:only-of-type {\n",
       "        vertical-align: middle;\n",
       "    }\n",
       "\n",
       "    .dataframe tbody tr th {\n",
       "        vertical-align: top;\n",
       "    }\n",
       "\n",
       "    .dataframe thead th {\n",
       "        text-align: right;\n",
       "    }\n",
       "</style>\n",
       "<table border=\"1\" class=\"dataframe\">\n",
       "  <thead>\n",
       "    <tr style=\"text-align: right;\">\n",
       "      <th></th>\n",
       "      <th>Valence</th>\n",
       "      <th>Arousal</th>\n",
       "      <th>Dominance</th>\n",
       "    </tr>\n",
       "    <tr>\n",
       "      <th>Word</th>\n",
       "      <th></th>\n",
       "      <th></th>\n",
       "      <th></th>\n",
       "    </tr>\n",
       "  </thead>\n",
       "  <tbody>\n",
       "    <tr>\n",
       "      <th>aaaaaaah</th>\n",
       "      <td>0.479</td>\n",
       "      <td>0.606</td>\n",
       "      <td>0.291</td>\n",
       "    </tr>\n",
       "    <tr>\n",
       "      <th>aaaah</th>\n",
       "      <td>0.520</td>\n",
       "      <td>0.636</td>\n",
       "      <td>0.282</td>\n",
       "    </tr>\n",
       "    <tr>\n",
       "      <th>aardvark</th>\n",
       "      <td>0.427</td>\n",
       "      <td>0.490</td>\n",
       "      <td>0.437</td>\n",
       "    </tr>\n",
       "    <tr>\n",
       "      <th>aback</th>\n",
       "      <td>0.385</td>\n",
       "      <td>0.407</td>\n",
       "      <td>0.288</td>\n",
       "    </tr>\n",
       "    <tr>\n",
       "      <th>abacus</th>\n",
       "      <td>0.510</td>\n",
       "      <td>0.276</td>\n",
       "      <td>0.485</td>\n",
       "    </tr>\n",
       "  </tbody>\n",
       "</table>\n",
       "</div>"
      ],
      "text/plain": [
       "          Valence  Arousal  Dominance\n",
       "Word                                 \n",
       "aaaaaaah    0.479    0.606      0.291\n",
       "aaaah       0.520    0.636      0.282\n",
       "aardvark    0.427    0.490      0.437\n",
       "aback       0.385    0.407      0.288\n",
       "abacus      0.510    0.276      0.485"
      ]
     },
     "execution_count": 4,
     "metadata": {},
     "output_type": "execute_result"
    }
   ],
   "source": [
    "VAD_words = pd.read_csv(\"NRC-VAD-Lexicon.txt\",sep='\\t',header=0, index_col='Word')\n",
    "VAD_words.head()"
   ]
  },
  {
   "cell_type": "code",
   "execution_count": 5,
   "metadata": {},
   "outputs": [
    {
     "name": "stdout",
     "output_type": "stream",
     "text": [
      "Histograms of Valence, Arousal and Dominance respectively, word level\n"
     ]
    },
    {
     "data": {
      "image/png": "[encoded data removed]",
      "text/plain": [
       "<Figure size 1152x216 with 3 Axes>"
      ]
     },
     "metadata": {
      "needs_background": "light"
     },
     "output_type": "display_data"
    }
   ],
   "source": [
    "print('Histograms of Valence, Arousal and Dominance respectively, word level')\n",
    "VAR_w = [VAD_words['Valence'], VAD_words['Arousal'], VAD_words['Dominance']]\n",
    "fig, axes = plt.subplots(1,3,figsize=(16,3))\n",
    "for i, ax in enumerate(axes.flat):\n",
    "    ax.hist(VAR_w[i], bins=50) "
   ]
  },
  {
   "cell_type": "markdown",
   "metadata": {},
   "source": [
    "## Let's try different approaches!\n",
    "Goal is to predict the VAD values of a sentence from its input. Then it would also be great to acquire some model understanding on the way!\n",
    "## Approach 1 : average of word's VAD value\n",
    "An intuitive way of facing this problem could be to just take the mean of the VAD values for each word in the sentence. That way, if we had more negative words (valence) the sentence would naturally be more negative. The parameters to learn in this case would be those of the simple linear relation:\n",
    "$$VADsentence(x_1, x_2, \\dots x_n) = a*(VADword(x_1)+VADword(x_2)+ \\dots +VADword(x_n))/n+b$$\n",
    "Notice that they are all 3 component vectors."
   ]
  },
  {
   "cell_type": "code",
   "execution_count": 6,
   "metadata": {},
   "outputs": [],
   "source": [
    "def estimate_coef(x, y): \n",
    "    # number of observations/points \n",
    "    n = np.size(x)\n",
    "  \n",
    "    # mean of x and y vector \n",
    "    m_x, m_y = np.mean(x), np.mean(y) \n",
    "  \n",
    "    # calculating cross-deviation and deviation about x \n",
    "    SS_xy = np.sum(y*x) - n*m_y*m_x \n",
    "    SS_xx = np.sum(x*x) - n*m_x*m_x \n",
    "  \n",
    "    # calculating regression coefficients \n",
    "    a = SS_xy / SS_xx \n",
    "    b = m_y - a*m_x \n",
    "  \n",
    "    return(a, b)"
   ]
  },
  {
   "cell_type": "code",
   "execution_count": 7,
   "metadata": {},
   "outputs": [],
   "source": [
    "import re\n",
    "def normalizeString(s):\n",
    "    s = re.sub(r\"([.!?])\", r\" \\1\", s)\n",
    "    s = re.sub(r\"[^a-zA-Z.!?]+\", r\" \", s)\n",
    "    return s"
   ]
  },
  {
   "cell_type": "code",
   "execution_count": 8,
   "metadata": {},
   "outputs": [],
   "source": [
    "def get_vec(word):\n",
    "    #returns vad+300 glove vector\n",
    "    return VAD_words.loc[word]"
   ]
  },
  {
   "cell_type": "code",
   "execution_count": 9,
   "metadata": {},
   "outputs": [],
   "source": [
    "def compute_VAD_mean(sentence):\n",
    "    #takes a string (sentence) and returns the average VAD vector\n",
    "    sentence = sentence.lower()\n",
    "    sentence = normalizeString(sentence)\n",
    "    words = sentence.split()\n",
    "    vectors = []\n",
    "    for word in words:\n",
    "        try:\n",
    "            vec = [i for i in VAD_words.loc[word][:3]]\n",
    "            vectors.append(vec)\n",
    "        except:\n",
    "            #if word not in the lexicon then it must be neutral\n",
    "            vectors.append([.5, .5, .5])\n",
    "    valence = np.mean([vector[0] for vector in vectors])\n",
    "    arrousal = np.mean([vector[1] for vector in vectors])\n",
    "    dominance = np.mean([vector[2] for vector in vectors])\n",
    "    return valence, arrousal, dominance"
   ]
  },
  {
   "cell_type": "code",
   "execution_count": 10,
   "metadata": {},
   "outputs": [
    {
     "data": {
      "text/plain": [
       "(0.5456666666666666, 0.46677777777777785, 0.4773333333333334)"
      ]
     },
     "execution_count": 10,
     "metadata": {},
     "output_type": "execute_result"
    }
   ],
   "source": [
    "compute_VAD_mean('Remember what she said in my last letter? \"')"
   ]
  },
  {
   "cell_type": "markdown",
   "metadata": {},
   "source": [
    "We add columns to keep the VAD average values"
   ]
  },
  {
   "cell_type": "code",
   "execution_count": 11,
   "metadata": {},
   "outputs": [],
   "source": [
    "eb[\"V_words\"] = \"\"\n",
    "eb[\"A_words\"] = \"\"\n",
    "eb[\"D_words\"] = \"\""
   ]
  },
  {
   "cell_type": "code",
   "execution_count": 12,
   "metadata": {},
   "outputs": [],
   "source": [
    "for i in range(len(eb)):\n",
    "    eb['V_words'][i], eb['A_words'][i], eb['D_words'][i] = compute_VAD_mean(eb['text'][i])"
   ]
  },
  {
   "cell_type": "markdown",
   "metadata": {},
   "source": [
    "Now we only consider the training sentences"
   ]
  },
  {
   "cell_type": "code",
   "execution_count": 13,
   "metadata": {},
   "outputs": [],
   "source": [
    "train_1 = eb[eb.split=='train']"
   ]
  },
  {
   "cell_type": "markdown",
   "metadata": {},
   "source": [
    "### Estimating coefficients for valence"
   ]
  },
  {
   "cell_type": "code",
   "execution_count": 14,
   "metadata": {},
   "outputs": [
    {
     "name": "stdout",
     "output_type": "stream",
     "text": [
      "Coefficients for Valence: a = 2.839421168278393, b = 1.454510105282507\n"
     ]
    }
   ],
   "source": [
    "a_val, b_val = estimate_coef(train_1['V_words'], train_1['V'])\n",
    "print('Coefficients for Valence: a = '+str(a_val)+', b = '+str(b_val))"
   ]
  },
  {
   "cell_type": "markdown",
   "metadata": {},
   "source": [
    "### Testing the approach\n",
    "We will now consider the test set, we'll predict the valence of the text and we'll compare it with the actual value"
   ]
  },
  {
   "cell_type": "code",
   "execution_count": 15,
   "metadata": {},
   "outputs": [],
   "source": [
    "test_1 = eb[eb.split=='test']\n",
    "prediction_1_val = []\n",
    "for i in test_1['V_words']:\n",
    "    prediction_1_val.append(a_val*i + b_val)"
   ]
  },
  {
   "cell_type": "code",
   "execution_count": 16,
   "metadata": {},
   "outputs": [
    {
     "name": "stdout",
     "output_type": "stream",
     "text": [
      "L1 error of approach 1 for valence = 0.2287386269235124\n"
     ]
    }
   ],
   "source": [
    "Error_Val = np.absolute((prediction_1_val - test_1['V'].values)).mean()\n",
    "print('L1 error of approach 1 for valence = '+str(Error_Val))"
   ]
  },
  {
   "cell_type": "markdown",
   "metadata": {},
   "source": [
    "Lets look at a couple of examples to see if it isn't a generalisation..."
   ]
  },
  {
   "cell_type": "code",
   "execution_count": 17,
   "metadata": {},
   "outputs": [
    {
     "name": "stdout",
     "output_type": "stream",
     "text": [
      "--------------------------------------------------------------------------------------\n",
      "When my father died, a year after my mother, my sisters and I cleaned out their apartment.\n",
      "Valence = 2.0, predicted valence = 2.9570371401631563\n",
      "--------------------------------------------------------------------------------------\n",
      "Outdated baby food found on shelves\n",
      "Valence = 1.89, predicted valence = 3.217317413922009\n",
      "--------------------------------------------------------------------------------------\n",
      "So empty it hurt.\n",
      "Valence = 2.0, predicted valence = 2.4483075141799446\n",
      "--------------------------------------------------------------------------------------\n",
      "\"This is a criminal act and it certainly puts things in a different league,\"\n",
      "Valence = 2.0, predicted valence = 2.852316583266413\n"
     ]
    }
   ],
   "source": [
    "for i in [7518, 4949, 7066, 2947]:\n",
    "    print('--------------------------------------------------------------------------------------')\n",
    "    val_word = test_1['V_words'][i]\n",
    "    val, pred = test_1['V'][i], val_word*a_val + b_val\n",
    "    print(test_1['text'][i])\n",
    "    print('Valence = {}, predicted valence = {}'.format(val,pred))"
   ]
  },
  {
   "cell_type": "code",
   "execution_count": 18,
   "metadata": {},
   "outputs": [
    {
     "name": "stdout",
     "output_type": "stream",
     "text": [
      "--------------------------------------------------------------------------------------\n",
      "And the last lesson -- have fun .\n",
      "Valence = 4.0, predicted valence = 3.2307708618383764\n",
      "--------------------------------------------------------------------------------------\n",
      "Canadian breakthrough offers hope on autism\n",
      "Valence = 3.88, predicted valence = 3.036067696013572\n",
      "--------------------------------------------------------------------------------------\n",
      "We slammed against the doorway and I was laughing too, the pulse close enough to shake the doorframe and set up vibrations in my chest, Rachel in my arms because she’d used me to soften her landing.\n",
      "Valence = 4.1, predicted valence = 2.8976641154777454\n",
      "--------------------------------------------------------------------------------------\n",
      "The proverbial hospitality and warm welcome are still here.\n",
      "Valence = 3.75, predicted valence = 3.188260670633294\n"
     ]
    }
   ],
   "source": [
    "for i in [4455, 4618, 3871, 2613]:\n",
    "    print('--------------------------------------------------------------------------------------')\n",
    "    val_word = test_1['V_words'][i]\n",
    "    val, pred = test_1['V'][i], val_word*a_val + b_val\n",
    "    print(test_1['text'][i])\n",
    "    print('Valence = {}, predicted valence = {}'.format(val,pred))"
   ]
  },
  {
   "cell_type": "markdown",
   "metadata": {},
   "source": [
    "Finally, for arrousal and dominance we have the following errors"
   ]
  },
  {
   "cell_type": "code",
   "execution_count": 19,
   "metadata": {},
   "outputs": [
    {
     "name": "stdout",
     "output_type": "stream",
     "text": [
      "L1 error of approach 1 for valence = 0.186054452901469\n",
      "L1 error of approach 1 for valence = 0.15509522160344397\n"
     ]
    }
   ],
   "source": [
    "a_arr, b_arr = estimate_coef(train_1['A_words'], train_1['A'])\n",
    "a_dom, b_dom = estimate_coef(train_1['D_words'], train_1['D'])\n",
    "prediction_1_arr, prediction_1_dom = [], []\n",
    "for i in test_1['A_words']:\n",
    "    prediction_1_arr.append(a_arr*i + b_arr)\n",
    "for i in test_1['D_words']:\n",
    "    prediction_1_dom.append(a_dom*i + b_dom)\n",
    "Error_Arr = np.absolute((prediction_1_arr - test_1['A'].values)).mean()\n",
    "print('L1 error of approach 1 for arrousal = '+str(Error_Arr))\n",
    "Error_Dom = np.absolute((prediction_1_dom - test_1['D'].values)).mean()\n",
    "print('L1 error of approach 1 for dominance = '+str(Error_Dom))"
   ]
  },
  {
   "cell_type": "markdown",
   "metadata": {},
   "source": [
    "## Approach 2 : Neural network approach\n",
    "We can think of this taks as a function that we have to approximate. Neural networks are a nowadays an effective (and popular) way to approximate functions. Since our input corresponds to a sequence of elements (words in this case), then we'll use a recurrent neural network (NRR)."
   ]
  },
  {
   "cell_type": "code",
   "execution_count": 20,
   "metadata": {},
   "outputs": [],
   "source": [
    "import torch\n",
    "import csv"
   ]
  },
  {
   "cell_type": "markdown",
   "metadata": {},
   "source": [
    "Here we'll use [PyTorch](https://pytorch.org/docs/stable/nn.html)\n",
    "\n",
    "### Sentences to tensors\n",
    "\n",
    "To represent each word we use the 300 dimensional word vectors from Glove.\n",
    "\n",
    "[Pre-trained word embedding vectors](https://centralesupelec-my.sharepoint.com/personal/camilo_carvajal_student-cs_fr/_layouts/15/onedrive.aspx?id=%2Fpersonal%2Fcamilo%5Fcarvajal%5Fstudent%2Dcs%5Ffr%2FDocuments%2FCS%2BR%2FPretrained%20word%20vectors&originalPath=aHR0cHM6Ly9jZW50cmFsZXN1cGVsZWMtbXkuc2hhcmVwb2ludC5jb20vOmY6L2cvcGVyc29uYWwvY2FtaWxvX2NhcnZhamFsX3N0dWRlbnQtY3NfZnIvRXJsMG9adkNSLXRFdnNWbnBnUDNKbXdCQzlKbzQxRDVsQVBJZVBNYWJpUERBQT9ydGltZT1LSzZFd0NEaTEwZw)\n",
    "\n",
    "We load the pickled dataframe\n",
    "\n",
    "Pennington, J., Socher, R., & Manning, C. D. (2014, October). Glove: Global vectors for word representation. In Proceedings of the 2014 conference on empirical methods in natural language processing (EMNLP) (pp. 1532-1543)."
   ]
  },
  {
   "cell_type": "code",
   "execution_count": 21,
   "metadata": {},
   "outputs": [
    {
     "data": {
      "text/html": [
       "<div>\n",
       "<style scoped>\n",
       "    .dataframe tbody tr th:only-of-type {\n",
       "        vertical-align: middle;\n",
       "    }\n",
       "\n",
       "    .dataframe tbody tr th {\n",
       "        vertical-align: top;\n",
       "    }\n",
       "\n",
       "    .dataframe thead th {\n",
       "        text-align: right;\n",
       "    }\n",
       "</style>\n",
       "<table border=\"1\" class=\"dataframe\">\n",
       "  <thead>\n",
       "    <tr style=\"text-align: right;\">\n",
       "      <th></th>\n",
       "      <th>1</th>\n",
       "      <th>2</th>\n",
       "      <th>3</th>\n",
       "      <th>4</th>\n",
       "      <th>5</th>\n",
       "      <th>6</th>\n",
       "      <th>7</th>\n",
       "      <th>8</th>\n",
       "      <th>9</th>\n",
       "      <th>10</th>\n",
       "      <th>...</th>\n",
       "      <th>291</th>\n",
       "      <th>292</th>\n",
       "      <th>293</th>\n",
       "      <th>294</th>\n",
       "      <th>295</th>\n",
       "      <th>296</th>\n",
       "      <th>297</th>\n",
       "      <th>298</th>\n",
       "      <th>299</th>\n",
       "      <th>300</th>\n",
       "    </tr>\n",
       "    <tr>\n",
       "      <th>0</th>\n",
       "      <th></th>\n",
       "      <th></th>\n",
       "      <th></th>\n",
       "      <th></th>\n",
       "      <th></th>\n",
       "      <th></th>\n",
       "      <th></th>\n",
       "      <th></th>\n",
       "      <th></th>\n",
       "      <th></th>\n",
       "      <th></th>\n",
       "      <th></th>\n",
       "      <th></th>\n",
       "      <th></th>\n",
       "      <th></th>\n",
       "      <th></th>\n",
       "      <th></th>\n",
       "      <th></th>\n",
       "      <th></th>\n",
       "      <th></th>\n",
       "      <th></th>\n",
       "    </tr>\n",
       "  </thead>\n",
       "  <tbody>\n",
       "    <tr>\n",
       "      <th>,</th>\n",
       "      <td>-0.082752</td>\n",
       "      <td>0.672040</td>\n",
       "      <td>-0.14987</td>\n",
       "      <td>-0.064983</td>\n",
       "      <td>0.056491</td>\n",
       "      <td>0.402280</td>\n",
       "      <td>0.002775</td>\n",
       "      <td>-0.331100</td>\n",
       "      <td>-0.306910</td>\n",
       "      <td>2.0817</td>\n",
       "      <td>...</td>\n",
       "      <td>-0.14331</td>\n",
       "      <td>0.018267</td>\n",
       "      <td>-0.18643</td>\n",
       "      <td>0.207090</td>\n",
       "      <td>-0.355980</td>\n",
       "      <td>0.053380</td>\n",
       "      <td>-0.050821</td>\n",
       "      <td>-0.191800</td>\n",
       "      <td>-0.378460</td>\n",
       "      <td>-0.06589</td>\n",
       "    </tr>\n",
       "    <tr>\n",
       "      <th>.</th>\n",
       "      <td>0.012001</td>\n",
       "      <td>0.207510</td>\n",
       "      <td>-0.12578</td>\n",
       "      <td>-0.593250</td>\n",
       "      <td>0.125250</td>\n",
       "      <td>0.159750</td>\n",
       "      <td>0.137480</td>\n",
       "      <td>-0.331570</td>\n",
       "      <td>-0.136940</td>\n",
       "      <td>1.7893</td>\n",
       "      <td>...</td>\n",
       "      <td>0.16165</td>\n",
       "      <td>-0.066737</td>\n",
       "      <td>-0.29556</td>\n",
       "      <td>0.022612</td>\n",
       "      <td>-0.281350</td>\n",
       "      <td>0.063500</td>\n",
       "      <td>0.140190</td>\n",
       "      <td>0.138710</td>\n",
       "      <td>-0.360490</td>\n",
       "      <td>-0.03500</td>\n",
       "    </tr>\n",
       "    <tr>\n",
       "      <th>the</th>\n",
       "      <td>0.272040</td>\n",
       "      <td>-0.062030</td>\n",
       "      <td>-0.18840</td>\n",
       "      <td>0.023225</td>\n",
       "      <td>-0.018158</td>\n",
       "      <td>0.006719</td>\n",
       "      <td>-0.138770</td>\n",
       "      <td>0.177080</td>\n",
       "      <td>0.177090</td>\n",
       "      <td>2.5882</td>\n",
       "      <td>...</td>\n",
       "      <td>-0.42810</td>\n",
       "      <td>0.168990</td>\n",
       "      <td>0.22511</td>\n",
       "      <td>-0.285570</td>\n",
       "      <td>-0.102800</td>\n",
       "      <td>-0.018168</td>\n",
       "      <td>0.114070</td>\n",
       "      <td>0.130150</td>\n",
       "      <td>-0.183170</td>\n",
       "      <td>0.13230</td>\n",
       "    </tr>\n",
       "    <tr>\n",
       "      <th>and</th>\n",
       "      <td>-0.185670</td>\n",
       "      <td>0.066008</td>\n",
       "      <td>-0.25209</td>\n",
       "      <td>-0.117250</td>\n",
       "      <td>0.265130</td>\n",
       "      <td>0.064908</td>\n",
       "      <td>0.122910</td>\n",
       "      <td>-0.093979</td>\n",
       "      <td>0.024321</td>\n",
       "      <td>2.4926</td>\n",
       "      <td>...</td>\n",
       "      <td>-0.59396</td>\n",
       "      <td>-0.097729</td>\n",
       "      <td>0.20072</td>\n",
       "      <td>0.170550</td>\n",
       "      <td>-0.004736</td>\n",
       "      <td>-0.039709</td>\n",
       "      <td>0.324980</td>\n",
       "      <td>-0.023452</td>\n",
       "      <td>0.123020</td>\n",
       "      <td>0.33120</td>\n",
       "    </tr>\n",
       "    <tr>\n",
       "      <th>to</th>\n",
       "      <td>0.319240</td>\n",
       "      <td>0.063160</td>\n",
       "      <td>-0.27858</td>\n",
       "      <td>0.261200</td>\n",
       "      <td>0.079248</td>\n",
       "      <td>-0.214620</td>\n",
       "      <td>-0.104950</td>\n",
       "      <td>0.154950</td>\n",
       "      <td>-0.033530</td>\n",
       "      <td>2.4834</td>\n",
       "      <td>...</td>\n",
       "      <td>-0.12977</td>\n",
       "      <td>0.371300</td>\n",
       "      <td>0.18888</td>\n",
       "      <td>-0.004274</td>\n",
       "      <td>-0.106450</td>\n",
       "      <td>-0.258100</td>\n",
       "      <td>-0.044629</td>\n",
       "      <td>0.082745</td>\n",
       "      <td>0.097801</td>\n",
       "      <td>0.25045</td>\n",
       "    </tr>\n",
       "  </tbody>\n",
       "</table>\n",
       "<p>5 rows × 300 columns</p>\n",
       "</div>"
      ],
      "text/plain": [
       "          1         2        3         4         5         6         7    \\\n",
       "0                                                                          \n",
       ",   -0.082752  0.672040 -0.14987 -0.064983  0.056491  0.402280  0.002775   \n",
       ".    0.012001  0.207510 -0.12578 -0.593250  0.125250  0.159750  0.137480   \n",
       "the  0.272040 -0.062030 -0.18840  0.023225 -0.018158  0.006719 -0.138770   \n",
       "and -0.185670  0.066008 -0.25209 -0.117250  0.265130  0.064908  0.122910   \n",
       "to   0.319240  0.063160 -0.27858  0.261200  0.079248 -0.214620 -0.104950   \n",
       "\n",
       "          8         9       10   ...      291       292      293       294  \\\n",
       "0                                ...                                         \n",
       ",   -0.331100 -0.306910  2.0817  ... -0.14331  0.018267 -0.18643  0.207090   \n",
       ".   -0.331570 -0.136940  1.7893  ...  0.16165 -0.066737 -0.29556  0.022612   \n",
       "the  0.177080  0.177090  2.5882  ... -0.42810  0.168990  0.22511 -0.285570   \n",
       "and -0.093979  0.024321  2.4926  ... -0.59396 -0.097729  0.20072  0.170550   \n",
       "to   0.154950 -0.033530  2.4834  ... -0.12977  0.371300  0.18888 -0.004274   \n",
       "\n",
       "          295       296       297       298       299      300  \n",
       "0                                                               \n",
       ",   -0.355980  0.053380 -0.050821 -0.191800 -0.378460 -0.06589  \n",
       ".   -0.281350  0.063500  0.140190  0.138710 -0.360490 -0.03500  \n",
       "the -0.102800 -0.018168  0.114070  0.130150 -0.183170  0.13230  \n",
       "and -0.004736 -0.039709  0.324980 -0.023452  0.123020  0.33120  \n",
       "to  -0.106450 -0.258100 -0.044629  0.082745  0.097801  0.25045  \n",
       "\n",
       "[5 rows x 300 columns]"
      ]
     },
     "execution_count": 21,
     "metadata": {},
     "output_type": "execute_result"
    }
   ],
   "source": [
    "txt = r'C:\\Users\\fast\\camilo\\Research_Project\\Databases\\glove.840B.300d.pkl'\n",
    "#your path\n",
    "glove_vecs = pd.read_pickle(txt)\n",
    "glove_vecs.head()"
   ]
  },
  {
   "cell_type": "markdown",
   "metadata": {},
   "source": [
    "To make a sentence we join them into a 2D matrix. However the dimensions are given by:``<line_length x 1 x n_letters>``.\n",
    "\n",
    "That extra 1 dimension is because PyTorch assumes everything is in\n",
    "batches - we're just using a batch size of 1 here."
   ]
  },
  {
   "cell_type": "code",
   "execution_count": 22,
   "metadata": {},
   "outputs": [],
   "source": [
    "# Turn a line into a <line_length x 1 x n_letters>,\n",
    "\n",
    "def WordToTensor(word):\n",
    "    vec_word = [n for n in glove_vecs.loc[word]]\n",
    "    tensor = torch.FloatTensor(vec_word)\n",
    "    return tensor\n",
    "\n",
    "def SentenceToTensor(sentence):\n",
    "    sentence = sentence.lower()\n",
    "    sentence = normalizeString(sentence)\n",
    "    words = sentence.split()\n",
    "    len_sentence = len(words)\n",
    "    for word in words:\n",
    "        try:\n",
    "            vec_word = glove_vecs.loc[word]\n",
    "        except:\n",
    "            len_sentence += -1\n",
    "    if len_sentence==0:\n",
    "        return torch.zeros(1, 1, 300)\n",
    "    tensor = torch.zeros(len_sentence, 1, 300)\n",
    "    for index, word in enumerate(words):\n",
    "        tensor[index][0][:] = WordToTensor(word)\n",
    "    return tensor"
   ]
  },
  {
   "cell_type": "code",
   "execution_count": 23,
   "metadata": {},
   "outputs": [
    {
     "data": {
      "text/plain": [
       "torch.Size([4, 1, 300])"
      ]
     },
     "execution_count": 23,
     "metadata": {},
     "output_type": "execute_result"
    }
   ],
   "source": [
    "hola = SentenceToTensor('what is love?')\n",
    "hola.size()"
   ]
  },
  {
   "cell_type": "code",
   "execution_count": 24,
   "metadata": {},
   "outputs": [],
   "source": [
    "import torch.nn as nn\n",
    "\n",
    "class RNN(nn.Module):\n",
    "    def __init__(self, input_size, hidden_size, output_size):\n",
    "        super(RNN, self).__init__()\n",
    "\n",
    "        self.hidden_size = hidden_size\n",
    "\n",
    "        self.i2h = nn.Linear(input_size + hidden_size, hidden_size)\n",
    "        self.i2o = nn.Linear(input_size + hidden_size, output_size)\n",
    "\n",
    "    def forward(self, input, hidden):\n",
    "        combined = torch.cat((input, hidden), 1)\n",
    "        hidden = self.i2h(combined)\n",
    "        output = self.i2o(combined)\n",
    "        return output, hidden\n",
    "\n",
    "    def initHidden(self):\n",
    "        return torch.zeros(1, self.hidden_size)\n",
    "\n",
    "n_hidden = 600\n",
    "n_categories = 3\n",
    "rnn = RNN(300, n_hidden, n_categories)"
   ]
  },
  {
   "cell_type": "code",
   "execution_count": 25,
   "metadata": {},
   "outputs": [
    {
     "name": "stdout",
     "output_type": "stream",
     "text": [
      "tensor([[-0.2202, -0.0097,  0.0742]], grad_fn=<AddmmBackward>) tensor([[-1.0166e-02, -1.0015e-01, -2.2861e-02,  2.6831e-01,  1.3063e-01,\n",
      "         -9.4053e-04,  2.4239e-01, -2.5919e-01, -6.1307e-02, -2.2866e-01,\n",
      "          2.0585e-01, -2.8933e-02,  9.9936e-03, -2.9961e-02,  4.8870e-02,\n",
      "         -7.8813e-03,  1.6611e-01,  5.0352e-02,  6.8945e-02,  1.2631e-01,\n",
      "          1.6805e-01, -1.0975e-01,  3.0740e-02, -2.5084e-02,  8.8976e-02,\n",
      "          9.3081e-02,  1.1318e-01,  1.9734e-01,  6.3956e-02, -2.3526e-01,\n",
      "         -1.5554e-02,  4.0989e-02,  9.0401e-02, -4.8504e-02, -8.3495e-03,\n",
      "         -8.0738e-02,  7.6810e-02, -4.5258e-02, -1.1778e-01,  9.1672e-03,\n",
      "          1.8153e-02, -2.8526e-02, -1.5026e-01,  7.9682e-02,  2.3485e-01,\n",
      "          4.4604e-02,  5.5264e-02, -7.7435e-02,  2.3331e-01, -1.9547e-01,\n",
      "         -1.7859e-01, -7.1762e-02, -4.2446e-02,  3.0213e-01,  1.9971e-01,\n",
      "         -1.5021e-01,  4.6005e-02,  5.3127e-02,  8.8054e-02,  4.3298e-02,\n",
      "          6.3428e-02,  1.8832e-01, -7.0685e-02, -9.5559e-02,  1.2916e-01,\n",
      "         -8.6688e-02,  8.5491e-02,  1.6455e-01,  1.5662e-01,  4.7313e-03,\n",
      "         -5.9830e-02, -8.7442e-03,  1.5968e-02,  5.7842e-02, -6.7542e-03,\n",
      "         -5.1931e-02, -5.0931e-02, -1.8344e-01, -2.7398e-02, -2.4714e-01,\n",
      "         -4.4348e-02, -3.4338e-02, -1.0841e-01, -1.1966e-01,  6.2861e-02,\n",
      "         -9.2111e-02, -2.3059e-01, -7.2872e-02,  2.0802e-01, -2.1094e-01,\n",
      "          2.7180e-02,  1.9370e-01, -1.2806e-01,  6.3444e-02,  7.7237e-02,\n",
      "          6.1039e-02,  3.4714e-02,  2.0923e-02,  9.5067e-02,  1.9910e-02,\n",
      "          1.7423e-02,  3.4521e-01,  1.0854e-01, -7.6986e-02, -7.0973e-02,\n",
      "          3.3336e-01, -2.0195e-01, -8.1941e-02,  1.2504e-01,  1.5830e-01,\n",
      "          3.4062e-03, -1.6107e-01,  5.1265e-02,  3.6664e-02,  1.7459e-02,\n",
      "          1.8078e-01, -2.6782e-02,  1.8428e-01, -5.7449e-02, -6.5006e-02,\n",
      "         -6.3547e-02, -6.7936e-03, -2.3589e-01, -1.4623e-02,  6.8141e-02,\n",
      "         -9.4631e-03,  1.5997e-01, -3.8732e-04, -1.0744e-01,  3.2095e-02,\n",
      "          2.3282e-01,  1.3725e-01, -1.5509e-01, -1.6309e-01, -5.1914e-03,\n",
      "         -1.3481e-01, -1.6835e-01,  5.1068e-02,  8.2066e-02,  4.1135e-03,\n",
      "          1.0719e-01,  4.2256e-02, -1.2170e-01, -1.3753e-01, -1.2947e-01,\n",
      "         -7.2613e-02, -2.4455e-03, -2.2924e-02, -1.7431e-01, -2.1158e-02,\n",
      "         -3.7057e-01, -2.8957e-01, -3.3866e-02, -9.3405e-02, -7.6178e-02,\n",
      "          8.5084e-02, -2.4991e-01, -6.1783e-02, -1.2165e-01,  1.9999e-01,\n",
      "         -1.3235e-01, -1.2272e-01, -1.3006e-01, -6.2449e-02, -1.7371e-01,\n",
      "          1.8226e-01, -2.2638e-01,  1.1195e-01,  3.4838e-01,  1.3779e-01,\n",
      "          2.8145e-01, -1.6189e-02,  1.7679e-01,  2.1416e-02,  1.2122e-01,\n",
      "         -4.9659e-02,  1.2132e-01,  2.5687e-01,  7.6797e-02, -6.0208e-02,\n",
      "         -1.8107e-01, -4.8691e-02, -1.6702e-01,  1.1730e-01,  2.1987e-01,\n",
      "          1.6164e-01,  1.1504e-01,  1.5225e-01, -1.3060e-01,  4.4226e-02,\n",
      "          2.2530e-01, -1.8701e-01, -1.6247e-01,  4.6269e-02, -4.3886e-02,\n",
      "          9.1180e-02, -9.9530e-02, -9.8774e-02, -2.2347e-01,  9.2672e-02,\n",
      "         -1.8630e-01, -2.0452e-01, -1.0135e-01,  3.3166e-02, -1.6178e-01,\n",
      "          2.4838e-01, -3.2815e-02,  8.2750e-02, -1.7280e-01,  4.4091e-02,\n",
      "         -2.1735e-01,  2.7295e-01, -1.4378e-02, -2.3915e-01, -1.0634e-03,\n",
      "         -4.1960e-02, -1.0391e-01, -1.6365e-01,  1.0556e-01, -4.1784e-02,\n",
      "          4.4481e-02, -8.9942e-02, -1.7496e-01, -4.2737e-03, -2.3066e-01,\n",
      "          9.8435e-02, -1.4385e-01, -3.7579e-02, -2.2054e-03,  6.5080e-02,\n",
      "         -1.5796e-01,  3.0816e-01,  6.4553e-02, -3.4604e-02, -6.1271e-02,\n",
      "         -9.7201e-02, -9.0156e-03, -4.2543e-02, -8.7286e-02,  8.9545e-02,\n",
      "         -1.8287e-01, -1.1386e-01,  7.5393e-02,  1.9774e-02, -9.1360e-02,\n",
      "         -6.6386e-03,  9.8203e-03, -1.5352e-01, -9.4242e-02, -6.1803e-02,\n",
      "          1.7181e-01,  3.5153e-02, -7.8581e-02, -5.7109e-02, -2.6307e-01,\n",
      "          1.8154e-01,  2.1455e-01,  1.3514e-01,  8.1496e-02,  1.5795e-01,\n",
      "          2.8018e-02, -6.5479e-02,  3.1153e-02,  5.0667e-02, -6.6734e-03,\n",
      "          6.1032e-02,  5.3347e-02,  1.8633e-01,  7.3550e-02, -5.9990e-02,\n",
      "          7.8644e-02, -1.1438e-01, -1.7900e-01,  6.6757e-02,  1.3019e-02,\n",
      "         -1.5782e-01, -8.1608e-02,  7.7931e-02,  2.5492e-01,  1.5674e-01,\n",
      "          3.7954e-02,  3.8598e-02,  1.9615e-01,  9.8399e-02, -6.2353e-02,\n",
      "          2.4331e-01, -6.1558e-02, -5.8234e-02, -1.5397e-02, -2.1045e-01,\n",
      "         -9.6323e-02,  1.6572e-01,  2.6592e-01, -1.6850e-01,  7.1209e-02,\n",
      "         -1.4805e-01, -7.6246e-02, -4.4193e-02,  5.9288e-02,  9.7802e-02,\n",
      "         -2.0079e-01,  4.0117e-02,  7.2380e-02, -1.3299e-01, -4.4280e-02,\n",
      "          8.5104e-02,  2.3501e-01, -2.6269e-02, -1.0357e-01,  6.7753e-02,\n",
      "          3.1163e-02,  1.6932e-01, -4.2560e-02, -1.3540e-01, -1.5831e-01,\n",
      "         -1.3378e-01, -5.3416e-02,  1.7284e-01,  2.3803e-01,  2.1835e-02,\n",
      "         -7.2244e-02, -8.0781e-03,  2.9215e-02, -6.9165e-02,  4.4332e-02,\n",
      "         -3.2369e-03, -1.3646e-01,  1.2577e-01, -4.9887e-02, -4.3821e-02,\n",
      "          2.7358e-02, -3.9995e-02,  2.8848e-02, -2.0806e-01,  1.1973e-02,\n",
      "          2.2997e-02, -6.9591e-02,  4.8345e-02,  5.1621e-02, -1.1856e-01,\n",
      "          3.4725e-02,  2.3378e-01,  1.4660e-01,  2.2666e-02, -1.5973e-01,\n",
      "         -2.7200e-01, -1.2559e-02, -1.3108e-01, -3.1637e-02, -1.5107e-01,\n",
      "         -2.8834e-02, -8.1210e-02, -3.4825e-03, -4.9784e-02,  1.5316e-01,\n",
      "          3.4608e-02, -3.4163e-02, -8.1778e-03, -4.3168e-02, -1.7625e-01,\n",
      "          4.1569e-02, -1.5355e-01,  1.9600e-01, -2.9944e-01, -5.0397e-02,\n",
      "          1.2381e-01,  2.0119e-03,  2.0554e-01, -1.3697e-01, -3.0515e-03,\n",
      "          1.7351e-01, -2.0544e-01, -3.6214e-03,  2.7058e-02, -9.7531e-02,\n",
      "         -7.1343e-02,  7.6265e-02, -3.8349e-02,  1.0646e-01,  4.2066e-02,\n",
      "          8.0768e-03, -2.8038e-01,  9.5948e-02,  6.4948e-02, -2.2322e-01,\n",
      "         -6.8843e-02, -1.4388e-01,  9.5338e-02,  9.8430e-02,  6.9502e-02,\n",
      "          3.4843e-02, -1.6231e-01, -4.4119e-04, -6.2656e-02, -1.2505e-01,\n",
      "         -1.8461e-01,  4.3598e-02,  6.4387e-02,  1.0243e-02,  1.0491e-01,\n",
      "         -2.2256e-02, -4.1269e-02,  1.8438e-01,  2.9779e-01, -1.4019e-01,\n",
      "          1.0766e-01,  1.0043e-01, -2.3725e-01,  2.4503e-01, -4.6204e-02,\n",
      "         -1.4506e-02,  5.2102e-02,  1.1984e-01, -2.3371e-02,  1.9885e-01,\n",
      "         -1.2355e-01, -5.0225e-02, -1.7735e-02, -5.0727e-02, -2.1707e-01,\n",
      "         -1.8843e-01, -5.9140e-02, -1.0143e-01,  1.2801e-01,  1.0460e-01,\n",
      "         -5.4143e-02,  2.5847e-01, -1.5845e-01,  5.4146e-02, -3.5953e-03,\n",
      "          5.4962e-02,  1.3103e-01, -1.4394e-01, -2.4478e-02,  1.0936e-01,\n",
      "          9.0411e-03,  5.6945e-02,  5.5044e-02, -1.2222e-01,  5.6947e-02,\n",
      "          7.8947e-02,  9.1160e-02, -8.3403e-02, -1.8557e-01, -4.7390e-02,\n",
      "          4.5238e-02,  5.0634e-02, -5.1031e-03,  5.4442e-03, -7.9674e-02,\n",
      "         -3.1382e-02, -1.8444e-01, -2.3141e-02,  1.2651e-02, -1.2263e-01,\n",
      "          1.6501e-01, -1.0092e-01,  7.7160e-02,  3.2301e-02,  9.8039e-02,\n",
      "         -1.2290e-01,  1.9674e-01, -1.8893e-01, -1.1604e-01,  4.6166e-02,\n",
      "          1.6554e-01,  4.7396e-02, -8.8590e-03, -1.5022e-01, -2.1608e-01,\n",
      "          3.3755e-02, -2.7358e-02,  7.3665e-02,  2.8844e-01, -9.2078e-02,\n",
      "          6.0634e-02,  2.6796e-01, -3.9111e-02,  2.7483e-04,  1.2100e-01,\n",
      "          1.1016e-01, -1.5260e-01, -1.5488e-01, -1.0034e-01, -3.0406e-02,\n",
      "         -1.0230e-01, -9.5013e-02, -2.7954e-02, -1.6961e-02, -4.5782e-03,\n",
      "          2.2034e-01,  2.5526e-01, -4.7708e-02, -3.9042e-02,  8.1479e-02,\n",
      "         -1.0081e-01, -5.9979e-02, -3.2685e-02,  1.8460e-01, -4.5720e-02,\n",
      "          2.6527e-02,  8.3884e-03, -4.4760e-01,  9.5647e-02, -2.0803e-02,\n",
      "         -1.4316e-01,  4.0282e-02,  9.5955e-02,  3.3098e-02, -8.0749e-02,\n",
      "          1.0049e-01, -4.4297e-02, -3.8741e-02, -1.7944e-01, -1.2230e-01,\n",
      "          2.6822e-06,  1.9051e-01,  2.8040e-02,  2.2363e-01,  1.8734e-01,\n",
      "          3.0220e-01, -2.1853e-01, -1.0129e-01,  3.0838e-02,  1.2027e-01,\n",
      "         -5.2942e-02, -1.1010e-01, -1.6855e-01,  2.6601e-02,  1.8803e-01,\n",
      "          1.0726e-01, -6.4906e-02, -1.7005e-01, -1.0309e-01, -3.4517e-02,\n",
      "         -2.2770e-02, -1.2781e-01,  2.0519e-01,  8.9788e-03, -6.3115e-02,\n",
      "          1.5428e-02,  9.3958e-02, -8.7865e-02,  1.2470e-01, -3.3153e-02,\n",
      "         -2.1883e-01, -1.1260e-01,  2.8461e-01,  1.2263e-01,  1.3088e-01,\n",
      "         -4.0828e-02,  4.5985e-02,  2.0915e-01, -1.1046e-02,  2.3003e-01,\n",
      "         -2.6069e-01,  1.1136e-01, -2.2383e-02,  1.1590e-01, -2.7937e-02,\n",
      "          3.9190e-02,  1.4613e-01, -9.6391e-02,  6.1430e-02, -1.5564e-01,\n",
      "          8.7996e-02, -8.1276e-03,  2.0256e-01, -7.9390e-02,  6.4283e-02,\n",
      "         -2.2001e-03, -2.7499e-01,  8.6605e-02, -1.3037e-01,  5.1595e-02,\n",
      "         -9.6388e-02, -6.3183e-02, -2.7782e-01, -1.3955e-02, -2.6826e-02,\n",
      "          9.2247e-03,  1.8141e-01, -9.3616e-02,  1.3731e-01,  2.4611e-02,\n",
      "         -6.4305e-02, -2.1589e-01,  1.9839e-02,  2.9971e-01, -2.5760e-01,\n",
      "         -5.9293e-02, -2.0270e-01, -2.3837e-01,  7.5091e-02,  5.2936e-02,\n",
      "         -5.7503e-02,  7.3338e-02,  2.2002e-02,  1.5702e-02,  7.9950e-03]],\n",
      "       grad_fn=<AddmmBackward>)\n"
     ]
    }
   ],
   "source": [
    "input = SentenceToTensor('baby dont hurt me')\n",
    "hidden =torch.zeros(1, n_hidden)\n",
    "\n",
    "output, next_hidden = rnn(input[0], hidden)\n",
    "print(output, next_hidden)"
   ]
  },
  {
   "cell_type": "markdown",
   "metadata": {},
   "source": [
    "Now we define the loss function"
   ]
  },
  {
   "cell_type": "code",
   "execution_count": 26,
   "metadata": {},
   "outputs": [],
   "source": [
    "criterion = torch.nn.MSELoss()"
   ]
  },
  {
   "cell_type": "markdown",
   "metadata": {},
   "source": [
    "Prepare training and test set, defining auxiliary functions"
   ]
  },
  {
   "cell_type": "code",
   "execution_count": 27,
   "metadata": {},
   "outputs": [
    {
     "data": {
      "text/html": [
       "<div>\n",
       "<style scoped>\n",
       "    .dataframe tbody tr th:only-of-type {\n",
       "        vertical-align: middle;\n",
       "    }\n",
       "\n",
       "    .dataframe tbody tr th {\n",
       "        vertical-align: top;\n",
       "    }\n",
       "\n",
       "    .dataframe thead th {\n",
       "        text-align: right;\n",
       "    }\n",
       "</style>\n",
       "<table border=\"1\" class=\"dataframe\">\n",
       "  <thead>\n",
       "    <tr style=\"text-align: right;\">\n",
       "      <th></th>\n",
       "      <th>split</th>\n",
       "      <th>V</th>\n",
       "      <th>A</th>\n",
       "      <th>D</th>\n",
       "      <th>text</th>\n",
       "    </tr>\n",
       "  </thead>\n",
       "  <tbody>\n",
       "    <tr>\n",
       "      <th>0</th>\n",
       "      <td>train</td>\n",
       "      <td>3.00</td>\n",
       "      <td>3.00</td>\n",
       "      <td>3.20</td>\n",
       "      <td>Remember what she said in my last letter? \"</td>\n",
       "    </tr>\n",
       "    <tr>\n",
       "      <th>2</th>\n",
       "      <td>train</td>\n",
       "      <td>3.00</td>\n",
       "      <td>3.00</td>\n",
       "      <td>3.00</td>\n",
       "      <td>..\"</td>\n",
       "    </tr>\n",
       "    <tr>\n",
       "      <th>3</th>\n",
       "      <td>train</td>\n",
       "      <td>3.44</td>\n",
       "      <td>3.00</td>\n",
       "      <td>3.22</td>\n",
       "      <td>Goodwill helps people get off of public assistance.</td>\n",
       "    </tr>\n",
       "    <tr>\n",
       "      <th>4</th>\n",
       "      <td>train</td>\n",
       "      <td>3.55</td>\n",
       "      <td>3.27</td>\n",
       "      <td>3.46</td>\n",
       "      <td>Sherry learned through our Future Works class that she could rise out of the mire of the welfare system and support ...</td>\n",
       "    </tr>\n",
       "    <tr>\n",
       "      <th>5</th>\n",
       "      <td>train</td>\n",
       "      <td>3.60</td>\n",
       "      <td>3.30</td>\n",
       "      <td>3.80</td>\n",
       "      <td>Coming to Goodwill was the first step toward my becoming totally independent.</td>\n",
       "    </tr>\n",
       "  </tbody>\n",
       "</table>\n",
       "</div>"
      ],
      "text/plain": [
       "   split     V     A     D  \\\n",
       "0  train  3.00  3.00  3.20   \n",
       "2  train  3.00  3.00  3.00   \n",
       "3  train  3.44  3.00  3.22   \n",
       "4  train  3.55  3.27  3.46   \n",
       "5  train  3.60  3.30  3.80   \n",
       "\n",
       "                                                                                                                      text  \n",
       "0                                                                              Remember what she said in my last letter? \"  \n",
       "2                                                                                                                      ..\"  \n",
       "3                                                                      Goodwill helps people get off of public assistance.  \n",
       "4  Sherry learned through our Future Works class that she could rise out of the mire of the welfare system and support ...  \n",
       "5                                            Coming to Goodwill was the first step toward my becoming totally independent.  "
      ]
     },
     "execution_count": 27,
     "metadata": {},
     "output_type": "execute_result"
    }
   ],
   "source": [
    "test_2 = test_1.drop(['V_words', 'A_words', 'D_words'], axis=1)\n",
    "train_2 = train_1.drop(['V_words', 'A_words', 'D_words'], axis=1)\n",
    "train_2.head()"
   ]
  },
  {
   "cell_type": "code",
   "execution_count": 28,
   "metadata": {},
   "outputs": [],
   "source": [
    "import random\n",
    "\n",
    "def randomChoice(dataFrame):\n",
    "    return dataFrame.loc[random.choice(dataFrame.index)]\n",
    "\n",
    "def randomTrainingExample():\n",
    "    row = randomChoice(train_2)\n",
    "    try:\n",
    "        VAD = [row.V, row.A, row.D]\n",
    "        tensor_VAD = torch.FloatTensor([[VAD]])\n",
    "        sentence = row.text\n",
    "        tensor_sentence = SentenceToTensor(sentence)\n",
    "    except:\n",
    "        sentence, VAD, tensor_sentence, tensor_VAD = randomTrainingExample()\n",
    "    return sentence, VAD, tensor_sentence, tensor_VAD"
   ]
  },
  {
   "cell_type": "code",
   "execution_count": 29,
   "metadata": {},
   "outputs": [],
   "source": [
    "def randomTestExample():\n",
    "    row1, row2, row3 = randomChoice(test_2), randomChoice(test_2), randomChoice(test_2)\n",
    "    row4, row5 = randomChoice(test_2), randomChoice(test_2)\n",
    "    tensor_sentence_tests, VAD_tests = [], []\n",
    "    for row in [row1, row2, row3, row4, row5]:\n",
    "        try:\n",
    "            VAD = [row.V, row.A, row.D]\n",
    "            tensor_VAD = torch.FloatTensor([[VAD]])\n",
    "            sentence = row.text\n",
    "            tensor_sentence = SentenceToTensor(sentence)\n",
    "            tensor_sentence_tests.append(tensor_sentence)\n",
    "            VAD_tests.append(tensor_VAD)\n",
    "        except:\n",
    "            nothing = True\n",
    "    return tensor_sentence_tests, VAD_tests"
   ]
  },
  {
   "cell_type": "markdown",
   "metadata": {},
   "source": [
    "We define an evaluation function to constantly test the network while training, but we will use it later to do the overall evaluation and to predict valence for new examples"
   ]
  },
  {
   "cell_type": "code",
   "execution_count": 30,
   "metadata": {},
   "outputs": [],
   "source": [
    "def evaluate(sentence_tensor):\n",
    "    hidden = rnn.initHidden()\n",
    "\n",
    "    for i in range(sentence_tensor.size()[0]):\n",
    "        output, hidden = rnn(sentence_tensor[i], hidden)\n",
    "\n",
    "    return output.data[0]"
   ]
  },
  {
   "cell_type": "markdown",
   "metadata": {},
   "source": [
    "we will evaluate constantly how are function is performing on 5 random test sentences"
   ]
  },
  {
   "cell_type": "code",
   "execution_count": 31,
   "metadata": {},
   "outputs": [],
   "source": [
    "def test_while_training():\n",
    "    tensor_sentence_tests, VAD_tests = randomTestExample()\n",
    "    sum_error = 0\n",
    "    #test_2_val, test_2_arr, test_2_dom = [], [], []\n",
    "    for i in range(len(tensor_sentence_tests)):\n",
    "        #pred_val, pred_arr, pred_dom = evaluate(s_t)[0], evaluate(s_t)[1], evaluate(s_t)[2]\n",
    "        output = evaluate(tensor_sentence_tests[i])\n",
    "        sum_error += criterion(output, VAD_tests[i])\n",
    "    #Error_Val = ((test_2_val - VAD_tests)**2).mean()\n",
    "    #Error_Arr = ((test_2_arr - VAD_.values)**2).mean()\n",
    "    #Error_Dom = ((test_2_dom - test_2['D'].values).mean()\n",
    "    return sum_error/len(tensor_sentence_tests)"
   ]
  },
  {
   "cell_type": "code",
   "execution_count": 32,
   "metadata": {},
   "outputs": [
    {
     "data": {
      "text/plain": [
       "'Never gonna give you ...'"
      ]
     },
     "execution_count": 32,
     "metadata": {},
     "output_type": "execute_result"
    }
   ],
   "source": [
    "#just a function to save room on the examples to show while training\n",
    "def portionSentence(string,limit=20):\n",
    "    if len(string)<limit:\n",
    "        return string\n",
    "    else:\n",
    "        new_str = string[:limit]+' ...'\n",
    "        return new_str\n",
    "portionSentence('Never gonna give you up, Never gonna let you down')"
   ]
  },
  {
   "cell_type": "markdown",
   "metadata": {},
   "source": [
    "### Training!\n",
    "Or loading pre-trained model..."
   ]
  },
  {
   "cell_type": "code",
   "execution_count": 33,
   "metadata": {},
   "outputs": [],
   "source": [
    "learning_rate = 0.005 # If you set this too high, it might explode. If too low, it might not learn\n",
    "\n",
    "def train(VAD_tensor, Sentence_tensor):\n",
    "    hidden = rnn.initHidden()\n",
    "\n",
    "    rnn.zero_grad()\n",
    "\n",
    "    for i in range(Sentence_tensor.size()[0]):\n",
    "        output, hidden = rnn(Sentence_tensor[i], hidden)\n",
    "\n",
    "    loss = criterion(output, VAD_tensor)\n",
    "    loss.backward()\n",
    "\n",
    "    # Add parameters' gradients to their values, multiplied by learning rate\n",
    "    for p in rnn.parameters():\n",
    "        p.data.add_(-learning_rate, p.grad.data)\n",
    "\n",
    "    return output, loss.item()"
   ]
  },
  {
   "cell_type": "code",
   "execution_count": 34,
   "metadata": {},
   "outputs": [
    {
     "name": "stdout",
     "output_type": "stream",
     "text": [
      "100 0% (1m 16s) 0.0841 Sure. / tensor([2.5340, 2.4967, 2.6225]) [2.9, 2.7, 2.9]\n",
      "200 1% (2m 49s) 0.1945 Poverty is frequentl ... / tensor([3.1926, 2.9821, 3.1789]) [2.5, 3.25, 3.0]\n",
      "300 1% (4m 21s) 0.0521 First of America, wh ... / tensor([3.1114, 2.8400, 3.1627]) [3.2, 3.2, 3.3]\n",
      "400 2% (6m 1s) 0.1480 I was noodling on Va ... / tensor([2.8969, 2.6542, 2.9484]) [3.1, 3.1, 3.4]\n",
      "500 2% (7m 31s) 0.0920 The effects of Spani ... / tensor([3.1811, 3.2759, 3.1321]) [2.86, 2.86, 3.14]\n",
      "600 3% (9m 4s) 0.2342 The vampire fell for ... / tensor([3.0307, 3.1321, 3.0867]) [2.38, 3.38, 2.62]\n",
      "700 3% (10m 30s) 0.0158 I wondered why, if h ... / tensor([2.6677, 2.9081, 2.7592]) [2.62, 3.12, 2.75]\n",
      "800 4% (12m 3s) 0.1545 Enough. / tensor([2.5722, 2.7122, 2.7082]) [2.78, 3.11, 3.22]\n",
      "900 4% (13m 36s) 0.1572 House passes anti-te ... / tensor([2.4436, 2.7338, 2.5333]) [3.0, 2.9, 2.9]\n",
      "1000 5% (15m 13s) 0.0100 Portugal’s very prec ... / tensor([3.0874, 3.1324, 3.0705]) [3.0, 3.0, 3.0]\n",
      "1100 5% (16m 46s) 0.1234 Jade. / tensor([2.6968, 2.5851, 2.6827]) [3.0, 2.88, 3.12]\n",
      "1200 6% (18m 19s) 0.0259 “That’s a question y ... / tensor([2.6609, 2.8781, 2.9949]) [2.8, 3.1, 2.9]\n",
      "1300 6% (19m 41s) 0.0469 “always kind of fant ... / tensor([3.1719, 3.1353, 3.3329]) [3.3, 3.4, 3.1]\n",
      "1400 7% (21m 10s) 0.0371 Those included costs ... / tensor([2.9191, 3.1169, 3.0912]) [2.78, 2.89, 2.89]\n",
      "1500 7% (22m 53s) 0.0287 Karnes carries the i ... / tensor([2.9269, 3.1726, 3.1712]) [2.7, 3.1, 3.0]\n",
      "1600 8% (24m 33s) 0.1516 Easterling said he w ... / tensor([2.6540, 2.8776, 2.9214]) [3.1, 3.3, 3.2]\n",
      "1700 8% (25m 54s) 0.0175 Seeing as since the  ... / tensor([3.1249, 3.1170, 3.2717]) [3.09, 2.91, 3.18]\n",
      "1800 9% (27m 16s) 0.0389 He’s sitting right t ... / tensor([3.1259, 3.1723, 3.1044]) [3.0, 3.43, 3.29]\n",
      "1900 9% (28m 46s) 0.1459 Madonna's new baby's ... / tensor([3.2901, 3.3600, 3.3526]) [2.7, 3.2, 3.1]\n",
      "2000 10% (30m 26s) 0.0212 Won't you help make  ... / tensor([2.8842, 3.0862, 3.0339]) [3.0, 3.3, 3.1]\n",
      "2100 10% (32m 3s) 0.0046 It's chlorophyll gra ... / tensor([2.7499, 2.8838, 2.7946]) [2.8, 2.9, 2.9]\n",
      "2200 11% (33m 40s) 0.1346 The end result of su ... / tensor([2.9033, 3.1379, 3.2132]) [2.38, 3.0, 2.88]\n",
      "2300 11% (35m 7s) 0.1168 In her hands was a b ... / tensor([2.9127, 2.6529, 2.7218]) [2.92, 2.92, 3.25]\n",
      "2400 12% (36m 33s) 0.0065 Now the former “Nath ... / tensor([2.9615, 2.9077, 3.0121]) [3.0, 3.0, 3.11]\n",
      "2500 12% (38m 6s) 0.0691 I had to read it twi ... / tensor([2.7704, 2.9365, 3.0978]) [3.0, 3.12, 2.75]\n",
      "2600 13% (39m 45s) 0.0108 These non colors all ... / tensor([3.2650, 3.0350, 3.1000]) [3.2, 2.9, 3.0]\n",
      "2700 13% (41m 19s) 0.0686 Karnes knew the 509t ... / tensor([2.9225, 3.1588, 3.1989]) [2.73, 3.0, 2.82]\n",
      "2800 14% (42m 42s) 0.1175 Her voice had grown  ... / tensor([2.6880, 3.0442, 3.0321]) [2.22, 2.78, 2.78]\n",
      "2900 14% (44m 7s) 0.0672 Malaysia launches to ... / tensor([3.3884, 2.9886, 3.0585]) [3.5, 3.4, 3.2]\n",
      "3000 15% (45m 33s) 0.1268 Friendly fire pilot  ... / tensor([2.5116, 2.7603, 2.8372]) [3.0, 3.1, 3.0]\n",
      "3100 15% (47m 5s) 0.2834 In fact, the USDA ha ... / tensor([2.9954, 3.1792, 3.0658]) [2.2, 3.2, 2.6]\n",
      "3200 16% (48m 39s) 0.7916 EXAMPLE 2: \"Terroris ... / tensor([3.3427, 3.4442, 3.5387]) [1.9, 3.5, 3.0]\n",
      "3300 16% (50m 7s) 0.1240 Make sure it's clear ... / tensor([3.0416, 3.0865, 2.9197]) [3.4, 3.2, 3.4]\n",
      "3400 17% (51m 36s) 0.1091 White is seen as rep ... / tensor([3.0969, 3.0167, 3.1232]) [3.2, 2.5, 2.9]\n",
      "3500 17% (53m 10s) 0.0188 Why do you ask?\" / tensor([2.9277, 3.0407, 3.0634]) [3.0, 3.14, 2.86]\n",
      "3600 18% (54m 35s) 0.0127 Lowering West Street ... / tensor([3.0132, 3.0709, 3.0489]) [3.2, 3.1, 3.0]\n",
      "3700 18% (56m 0s) 0.1365 When he saw Roy in t ... / tensor([2.6541, 2.9453, 2.9649]) [3.25, 3.12, 3.12]\n",
      "3800 19% (57m 34s) 0.1038 “He looks healthy,”  ... / tensor([2.4503, 3.3110, 3.1650]) [3.0, 3.4, 3.2]\n",
      "3900 19% (59m 9s) 0.0229 Closings and cancell ... / tensor([2.3570, 2.8991, 2.8014]) [2.6, 2.9, 2.9]\n",
      "4000 20% (60m 41s) 0.0154 Iran and Nicaraguan  ... / tensor([3.2026, 2.9752, 3.0289]) [3.1, 2.8, 3.1]\n",
      "4100 20% (62m 22s) 0.0065 Both were asked how  ... / tensor([2.9343, 2.9109, 2.9156]) [3.0, 3.0, 3.0]\n",
      "4200 21% (63m 57s) 0.0878 “Who’s the freak?” / tensor([2.6610, 3.2400, 3.0833]) [2.22, 3.33, 3.33]\n",
      "4300 21% (65m 27s) 0.1982 His hair was slightl ... / tensor([2.7042, 3.1491, 2.9562]) [2.3, 2.8, 2.4]\n",
      "4400 22% (67m 0s) 0.1092 Nathan promised to s ... / tensor([2.8880, 3.2096, 3.0419]) [3.36, 3.27, 3.36]\n",
      "4500 22% (68m 32s) 0.0409 When lay theories we ... / tensor([2.6781, 2.9998, 3.0949]) [3.0, 2.9, 3.0]\n",
      "4600 23% (70m 6s) 0.0493 Sincerely, A Mark Gi ... / tensor([2.8417, 2.8721, 2.8876]) [3.0, 2.57, 2.71]\n",
      "4700 23% (71m 41s) 0.0124 I am ready for the m ... / tensor([2.9074, 3.0704, 3.0321]) [2.89, 3.11, 3.22]\n",
      "4800 24% (73m 14s) 0.0691 Sincerely, A Mark Gi ... / tensor([3.0487, 2.8821, 3.0380]) [3.0, 2.57, 2.71]\n",
      "4900 24% (74m 44s) 0.0300 A confessional too b ... / tensor([3.0147, 2.9765, 3.0149]) [3.25, 3.13, 3.12]\n",
      "5000 25% (76m 10s) 0.6444 They gazed at each o ... / tensor([2.6853, 3.0874, 3.1251]) [3.8, 3.9, 3.3]\n",
      "5100 25% (77m 30s) 0.1526 Palestinian factions ... / tensor([2.7101, 2.7306, 2.6886]) [3.1, 3.1, 3.1]\n",
      "5200 26% (78m 55s) 0.1014 Really? / tensor([2.6654, 2.9012, 2.7999]) [2.9, 3.3, 3.1]\n",
      "5300 26% (80m 23s) 0.0509 Brazil Air Force Cit ... / tensor([2.3497, 3.4752, 3.0679]) [2.38, 3.25, 2.75]\n",
      "5400 27% (81m 58s) 0.0823 The Anti-Terrorist - ... / tensor([3.1681, 3.4143, 3.3763]) [2.9, 3.1, 3.1]\n",
      "5500 27% (83m 23s) 0.0216 In fact, Moore menti ... / tensor([2.8148, 2.9335, 2.9388]) [3.0, 3.0, 3.1]\n",
      "5600 28% (84m 50s) 0.0216 Gently Weeps' lyrics ... / tensor([2.9771, 2.8950, 2.9131]) [3.1, 3.1, 3.0]\n",
      "5700 28% (86m 19s) 0.0547 Glancing down the st ... / tensor([2.8379, 3.1497, 3.0177]) [2.5, 3.1, 2.8]\n",
      "5800 28% (87m 52s) 0.1908 \"I don't recall ever ... / tensor([3.1371, 3.3037, 3.3736]) [2.6, 2.8, 3.2]\n",
      "5900 29% (89m 16s) 0.3093 Hatton hands back IB ... / tensor([3.4446, 3.4671, 3.3316]) [2.9, 2.8, 2.9]\n",
      "6000 30% (90m 38s) 0.0163 This enormous, moder ... / tensor([3.0337, 3.1040, 3.0778]) [3.0, 2.9, 3.0]\n",
      "6100 30% (92m 11s) 0.1241 PRESCRIPTION PRIVILE ... / tensor([3.1737, 3.2560, 3.2417]) [2.62, 3.0, 3.25]\n",
      "6200 31% (93m 52s) 0.0048 North Korea aid dema ... / tensor([2.8801, 3.0538, 2.9631]) [2.78, 3.0, 3.0]\n",
      "6300 31% (95m 21s) 0.0708 Putin vows to tackle ... / tensor([3.0393, 3.2214, 3.2225]) [2.86, 2.86, 3.0]\n",
      "6400 32% (96m 52s) 0.0191 BIRMINGHAM, Ala. --  ... / tensor([2.9515, 3.0923, 3.2286]) [3.0, 2.89, 3.11]\n",
      "6500 32% (98m 26s) 0.2873 Many of the children ... / tensor([2.9881, 2.9817, 2.9407]) [2.12, 3.25, 2.75]\n",
      "6600 33% (100m 11s) 0.0125 The McAlpine family, ... / tensor([3.0614, 2.9092, 3.1730]) [3.22, 3.0, 3.11]\n",
      "6700 33% (101m 37s) 0.2540 It never failed to a ... / tensor([3.1605, 3.2795, 3.1426]) [4.0, 3.25, 3.38]\n",
      "6800 34% (103m 7s) 0.0194 Adult Day Care for s ... / tensor([2.9800, 2.8755, 2.8943]) [3.0, 3.0, 3.1]\n",
      "6900 34% (104m 42s) 0.1301 “I've been having he ... / tensor([2.8278, 3.2588, 3.0110]) [2.27, 3.27, 2.73]\n",
      "7000 35% (106m 14s) 0.0283 As it has been an ex ... / tensor([3.3178, 3.2541, 3.3874]) [3.3, 3.3, 3.1]\n",
      "7100 35% (107m 39s) 0.0305 There will be two in ... / tensor([3.0097, 3.3018, 3.1833]) [3.0, 3.0, 3.2]\n",
      "7200 36% (109m 10s) 0.0450 The stone was as war ... / tensor([2.8514, 2.9416, 2.8913]) [3.2, 2.9, 3.0]\n",
      "7300 36% (110m 40s) 0.1147 ” whose feelings of  ... / tensor([3.5041, 3.2987, 3.4250]) [3.0, 3.1, 3.2]\n",
      "7400 37% (112m 12s) 0.0859 The peninsula opposi ... / tensor([3.3798, 2.9967, 3.0332]) [3.0, 3.0, 3.37]\n",
      "7500 37% (113m 36s) 0.2279 Put it in writing, d ... / tensor([2.9349, 3.1079, 3.0026]) [2.6, 3.4, 3.7]\n",
      "7600 38% (115m 2s) 0.0724 But I could handle a ... / tensor([2.7697, 3.0325, 2.9780]) [3.1, 3.1, 3.3]\n",
      "7700 38% (116m 19s) 0.1626 Name Address City, S ... / tensor([2.5856, 2.3884, 2.6171]) [3.0, 2.8, 3.0]\n",
      "7800 39% (117m 47s) 0.2851 Indonesian with bird ... / tensor([2.0832, 3.0371, 2.3337]) [2.0, 3.5, 3.13]\n",
      "7900 39% (119m 21s) 0.0224 Iraqi death toll exc ... / tensor([2.7804, 2.9329, 3.0817]) [2.6, 3.1, 3.0]\n",
      "8000 40% (120m 51s) 0.0041 I'd read Watchmen a  ... / tensor([3.0019, 3.0534, 3.1220]) [3.1, 3.1, 3.1]\n",
      "8100 40% (122m 21s) 0.0178 But he has had to ba ... / tensor([2.8792, 2.9162, 2.8804]) [2.89, 2.89, 3.11]\n"
     ]
    },
    {
     "name": "stdout",
     "output_type": "stream",
     "text": [
      "8200 41% (124m 0s) 0.0461 If I am capable of l ... / tensor([3.2685, 3.1517, 3.1835]) [3.56, 3.33, 3.33]\n",
      "8300 41% (125m 27s) 0.0023 Presumably after bei ... / tensor([2.9641, 2.8301, 2.9435]) [2.9, 2.8, 2.9]\n",
      "8400 42% (127m 2s) 0.1206 She gave me a grumpy ... / tensor([2.8244, 3.0764, 3.0406]) [2.25, 3.25, 3.0]\n",
      "8500 42% (128m 39s) 0.0402 It tells viewers: Ah ... / tensor([2.9617, 3.0946, 3.1223]) [3.3, 3.1, 3.2]\n",
      "8600 43% (130m 15s) 0.0481 And proof that Bush  ... / tensor([2.8336, 2.9033, 3.0400]) [2.6, 3.2, 3.0]\n",
      "8700 43% (131m 42s) 0.1458 When I was done ment ... / tensor([2.9926, 2.9340, 2.9773]) [2.7, 3.5, 2.8]\n",
      "8800 44% (133m 26s) 0.1126 Fermentation: The Da ... / tensor([3.3433, 3.0568, 3.3045]) [3.0, 2.7, 3.0]\n",
      "8900 44% (135m 10s) 0.0129 In his book The Symp ... / tensor([2.9815, 3.0551, 3.1189]) [3.0, 2.9, 3.0]\n",
      "9000 45% (136m 41s) 0.0119 Kun Iam Tong, off Av ... / tensor([3.4063, 3.1795, 3.1709]) [3.4, 3.1, 3.0]\n",
      "9100 45% (138m 11s) 0.0209 One search does not  ... / tensor([2.8985, 2.8797, 3.1018]) [2.67, 2.89, 3.0]\n",
      "9200 46% (139m 39s) 0.0307 This includes a volu ... / tensor([3.1816, 3.0040, 3.0864]) [3.09, 2.73, 3.18]\n",
      "9300 46% (141m 21s) 0.0255 Karnes had his own J ... / tensor([3.0524, 3.1540, 2.9767]) [3.18, 2.91, 3.0]\n",
      "9400 47% (142m 53s) 0.0054 For information abou ... / tensor([3.0259, 2.9607, 2.9819]) [3.0, 3.0, 3.1]\n",
      "9500 47% (144m 24s) 0.3877 Even the city feels  ... / tensor([3.0158, 3.1729, 3.1064]) [3.8, 3.8, 3.5]\n",
      "9600 48% (145m 53s) 0.0394 Unfortunately, this  ... / tensor([3.0321, 3.0247, 3.0331]) [2.71, 3.14, 3.0]\n",
      "9700 48% (147m 30s) 0.0170 These collectives ar ... / tensor([3.1869, 2.9304, 3.0510]) [3.2, 3.1, 3.2]\n",
      "9800 49% (149m 9s) 0.0679 Sincerely, / tensor([2.9285, 2.6855, 2.8595]) [3.22, 3.0, 3.0]\n",
      "9900 49% (150m 31s) 0.2329 'Lost's' Fox: 'I'm a ... / tensor([2.2188, 2.7157, 2.6445]) [2.0, 3.44, 3.0]\n",
      "10000 50% (152m 11s) 0.0902 \"What?\" / tensor([2.7909, 2.8860, 2.9386]) [3.1, 3.3, 3.0]\n",
      "10100 50% (153m 38s) 0.0149 August 4, 1999 / tensor([3.0466, 2.7999, 2.9401]) [3.0, 3.0, 2.89]\n",
      "10200 51% (155m 26s) 0.0630 One of the most inte ... / tensor([2.9844, 3.0244, 3.0196]) [3.22, 3.33, 3.22]\n",
      "10300 51% (157m 11s) 0.2717 For some reason I th ... / tensor([2.4485, 3.0067, 2.8614]) [2.1, 3.7, 2.4]\n",
      "10400 52% (158m 37s) 0.0211 Please use the enclo ... / tensor([3.3231, 3.5674, 3.2640]) [3.5, 3.4, 3.2]\n",
      "10500 52% (160m 16s) 0.0747 Tinian Island was th ... / tensor([2.6967, 2.9919, 2.9007]) [2.89, 2.56, 2.89]\n",
      "10600 53% (161m 45s) 0.0022 said Zheng. / tensor([2.9435, 2.7773, 3.0789]) [2.88, 2.75, 3.12]\n",
      "10700 53% (163m 17s) 0.0270 Federer overcomes a  ... / tensor([2.7569, 3.1389, 3.0476]) [3.0, 3.0, 3.1]\n",
      "10800 54% (164m 39s) 0.0975 Sunshine melted lazi ... / tensor([3.0406, 3.1013, 3.0670]) [3.5, 3.0, 2.8]\n",
      "10900 54% (166m 19s) 0.0379 Your gift to Goodwil ... / tensor([3.4360, 3.1253, 3.1242]) [3.63, 3.25, 3.37]\n",
      "11000 55% (167m 53s) 0.0832 I don't know. / tensor([2.7177, 3.1020, 3.0176]) [2.89, 3.0, 2.56]\n",
      "11100 55% (169m 18s) 0.0438 Starke said the scho ... / tensor([2.6850, 2.9805, 2.9398]) [3.0, 2.9, 3.1]\n",
      "11200 56% (170m 44s) 0.0496 “Nathan.” / tensor([2.9812, 3.0133, 3.1578]) [3.0, 2.63, 3.12]\n",
      "11300 56% (172m 24s) 0.1225 \"I would not have th ... / tensor([2.8300, 3.0972, 3.0239]) [3.11, 2.56, 3.0]\n",
      "11400 56% (174m 12s) 0.0617 By accepting my pers ... / tensor([3.2754, 3.1167, 3.1509]) [3.57, 3.43, 3.14]\n",
      "11500 57% (175m 50s) 0.0913 A mass of flaming wo ... / tensor([3.0158, 3.2529, 3.0248]) [2.67, 3.56, 2.78]\n",
      "11600 57% (177m 21s) 0.0107 Factories in Kowloon ... / tensor([3.3501, 3.0288, 3.1144]) [3.4, 3.2, 3.1]\n",
      "11700 58% (178m 56s) 0.1271 In advance, please a ... / tensor([3.5409, 3.5912, 3.2826]) [4.0, 3.29, 3.0]\n",
      "11800 59% (180m 29s) 0.1206 It can open doors to ... / tensor([3.1974, 3.1605, 3.0065]) [3.5, 3.62, 3.25]\n",
      "11900 59% (181m 57s) 0.0716 What next, will the  ... / tensor([2.7223, 3.0635, 3.0352]) [2.56, 3.22, 3.44]\n",
      "12000 60% (183m 19s) 0.1695 Tasha and I became l ... / tensor([3.2675, 3.2402, 3.1099]) [3.7, 3.8, 3.2]\n",
      "12100 60% (184m 49s) 0.0126 Sincerely, / tensor([2.8854, 2.6967, 2.9173]) [3.0, 2.83, 3.0]\n",
      "12200 61% (186m 29s) 0.0827 Listen to loons. / tensor([3.0108, 3.0590, 3.0934]) [3.0, 2.6, 2.9]\n",
      "12300 61% (188m 0s) 0.0039 Eventually, he turns ... / tensor([3.0318, 3.0564, 3.1697]) [3.11, 3.0, 3.22]\n",
      "12400 62% (189m 27s) 0.0574 Andrew Russell to lo ... / tensor([3.2184, 3.0207, 3.2469]) [3.0, 2.7, 3.1]\n",
      "12500 62% (191m 1s) 0.0079 The National Associa ... / tensor([3.0482, 2.9948, 3.0744]) [3.2, 3.0, 3.1]\n",
      "12600 63% (192m 30s) 0.0442 but it is in fact th ... / tensor([3.2652, 2.8943, 3.0753]) [3.1, 2.9, 3.4]\n",
      "12700 63% (193m 58s) 0.0014 I want to see what a ... / tensor([2.9830, 3.0866, 3.0308]) [3.0, 3.14, 3.0]\n",
      "12800 64% (195m 30s) 0.3540 Toddler died from E. ... / tensor([2.1732, 2.8806, 2.7502]) [1.62, 3.75, 2.75]\n",
      "12900 64% (197m 10s) 0.0291 \"What is this?\" / tensor([2.9029, 3.0157, 2.9250]) [2.89, 3.0, 3.22]\n",
      "13000 65% (198m 34s) 0.0009 Vive la nouveau Sono ... / tensor([3.2525, 2.8956, 3.1025]) [3.2, 2.9, 3.1]\n",
      "13100 65% (200m 2s) 0.1050 Let’s go together, y ... / tensor([3.1594, 3.1268, 3.0924]) [3.56, 3.44, 3.33]\n",
      "13200 66% (201m 39s) 0.0553 If I know him, I can ... / tensor([3.0712, 3.2192, 3.1752]) [3.0, 3.29, 3.57]\n",
      "13300 66% (203m 17s) 0.0202 The oral nature of j ... / tensor([2.9977, 2.8409, 3.0483]) [3.0, 2.6, 3.1]\n",
      "13400 67% (204m 47s) 0.0908 Today, I kept it sim ... / tensor([3.0026, 3.0055, 2.8844]) [3.3, 2.9, 3.3]\n",
      "13500 67% (206m 14s) 0.0076 These gardens used t ... / tensor([2.9787, 2.9765, 3.0616]) [2.88, 2.88, 3.0]\n",
      "13600 68% (207m 43s) 0.0438 Audubon establishes  ... / tensor([3.1612, 3.0296, 3.1566]) [3.46, 3.0, 3.36]\n",
      "13700 68% (209m 27s) 0.0440 She disagreed with t ... / tensor([3.0520, 3.0579, 3.0556]) [2.8, 2.8, 3.1]\n",
      "13800 69% (211m 1s) 0.0152 Breakup rings find n ... / tensor([2.8174, 3.0166, 2.8908]) [3.0, 3.0, 3.0]\n",
      "13900 69% (212m 36s) 0.0440 That is especially t ... / tensor([2.7481, 3.0245, 2.9948]) [3.0, 2.83, 3.17]\n",
      "14000 70% (214m 8s) 0.0050 Now, Margaret Seltze ... / tensor([2.8643, 3.1250, 3.2007]) [2.8, 3.1, 3.1]\n",
      "14100 70% (215m 48s) 0.0404 Was Prince's super s ... / tensor([3.0809, 3.0890, 3.0312]) [2.88, 3.13, 2.75]\n",
      "14200 71% (217m 18s) 0.1993 Although for other c ... / tensor([2.7135, 2.9445, 3.1009]) [2.43, 3.43, 2.57]\n",
      "14300 71% (218m 43s) 0.0918 Google executive act ... / tensor([2.9473, 2.9436, 3.1303]) [3.4, 3.2, 3.2]\n",
      "14400 72% (220m 11s) 0.0040 It is Moore's way to ... / tensor([3.1077, 3.1340, 3.1290]) [3.0, 3.12, 3.12]\n",
      "14500 72% (221m 38s) 0.0023 In fact, Moore menti ... / tensor([3.0650, 3.0455, 3.1258]) [3.0, 3.0, 3.1]\n",
      "14600 73% (223m 3s) 0.0385 Beyond, in the New T ... / tensor([3.0850, 2.7775, 3.0307]) [3.0, 2.45, 3.0]\n",
      "14700 73% (224m 35s) 0.0201 “I wouldn't miss thi ... / tensor([2.7774, 3.0789, 3.1043]) [2.8, 3.3, 3.0]\n",
      "14800 74% (226m 20s) 0.0683 As I did, I noticed  ... / tensor([2.8600, 3.1483, 2.8593]) [2.78, 2.78, 3.11]\n",
      "14900 74% (228m 0s) 0.0055 “This is someone fro ... / tensor([3.1192, 2.9894, 3.0287]) [3.11, 2.89, 3.11]\n",
      "15000 75% (229m 35s) 0.0141 Tell her...\" / tensor([3.0385, 3.2218, 3.0907]) [2.9, 3.1, 3.0]\n",
      "15100 75% (231m 6s) 0.0072 Roddick overcomes Fe ... / tensor([3.1136, 3.3162, 3.1739]) [3.2, 3.2, 3.2]\n",
      "15200 76% (232m 37s) 0.0032 Because the same gen ... / tensor([3.0141, 2.8436, 3.1129]) [3.0, 2.8, 3.2]\n",
      "15300 76% (234m 0s) 0.0212 Then, at Steve's sit ... / tensor([3.1827, 2.9483, 3.1660]) [3.0, 3.0, 3.0]\n",
      "15400 77% (235m 39s) 0.0365 So what does this ha ... / tensor([3.2015, 3.0308, 3.1368]) [2.9, 2.9, 3.1]\n",
      "15500 77% (237m 9s) 0.0183 Additionally, a hand ... / tensor([3.1568, 2.9299, 3.1260]) [3.3, 3.1, 3.2]\n",
      "15600 78% (238m 36s) 0.0377 For serious antiques ... / tensor([3.1954, 2.8345, 2.9818]) [3.0, 3.0, 3.2]\n",
      "15700 78% (239m 57s) 0.0518 he was already there ... / tensor([2.9712, 2.9871, 2.9141]) [3.0, 2.63, 2.75]\n",
      "15800 79% (241m 27s) 0.0267 Standing in the cent ... / tensor([3.0053, 3.0150, 3.0381]) [2.8, 3.2, 3.1]\n",
      "15900 79% (242m 45s) 0.0918 When I was done ment ... / tensor([2.8831, 3.0171, 2.8931]) [2.7, 3.5, 2.8]\n",
      "16000 80% (244m 15s) 0.0140 Inorganic nature has ... / tensor([3.0988, 2.9329, 3.0333]) [3.0, 3.0, 3.2]\n",
      "16100 80% (245m 46s) 0.0156 The classic Chinese  ... / tensor([3.1913, 3.0994, 3.1569]) [3.4, 3.1, 3.1]\n"
     ]
    },
    {
     "name": "stdout",
     "output_type": "stream",
     "text": [
      "16200 81% (247m 28s) 0.0184 On its front gripper ... / tensor([2.9707, 3.0070, 3.0543]) [3.0, 2.88, 3.25]\n",
      "16300 81% (248m 55s) 0.0825 Kitsch is vicarious  ... / tensor([2.8504, 3.1434, 2.9833]) [2.5, 2.8, 2.9]\n",
      "16400 82% (250m 29s) 0.3574 That is potentially  ... / tensor([3.2622, 2.9783, 3.1271]) [2.27, 3.18, 2.91]\n",
      "16500 82% (252m 6s) 0.0166 Surrounded by acres  ... / tensor([3.1350, 2.9494, 3.0959]) [3.0, 2.8, 3.0]\n",
      "16600 83% (253m 41s) 0.0198 But to the thousands ... / tensor([2.8274, 2.9354, 3.0600]) [2.6, 3.0, 3.0]\n",
      "16700 83% (255m 20s) 0.0118 Zheng, short and dar ... / tensor([2.9895, 2.9566, 2.9485]) [3.1, 3.1, 3.0]\n",
      "16800 84% (256m 53s) 0.0240 She reached for anot ... / tensor([2.8823, 2.9299, 2.9592]) [3.0, 2.75, 3.12]\n",
      "16900 84% (258m 22s) 0.0934 With your increased  ... / tensor([2.9145, 2.9102, 3.0236]) [3.1, 3.4, 3.1]\n",
      "17000 85% (259m 46s) 0.0707 \"Oh?\" / tensor([2.8717, 3.0300, 3.0271]) [2.9, 3.4, 3.3]\n",
      "17100 85% (261m 14s) 0.0110 Because the same gen ... / tensor([3.0784, 2.9594, 3.1620]) [3.0, 2.8, 3.2]\n",
      "17200 86% (262m 44s) 0.0452 The room held a bed, ... / tensor([3.1793, 3.0335, 3.0795]) [2.86, 2.86, 3.14]\n",
      "17300 86% (264m 22s) 0.0154 For the play of ligh ... / tensor([3.2441, 2.9746, 3.2411]) [3.1, 2.9, 3.1]\n",
      "17400 87% (266m 4s) 0.0553 'Grey's,' 'Betty,' ' ... / tensor([3.2716, 3.1839, 3.0448]) [3.6, 3.0, 3.2]\n",
      "17500 87% (267m 27s) 0.0303 “Disappeared,” I cor ... / tensor([3.0046, 3.1809, 3.1676]) [2.9, 2.9, 3.2]\n",
      "17600 88% (268m 48s) 0.0934 Ex-Border Patrol age ... / tensor([2.5080, 3.1631, 2.9409]) [2.2, 2.9, 2.6]\n",
      "17700 88% (270m 13s) 0.0282 Software giant SAP m ... / tensor([2.6058, 2.6329, 2.8563]) [2.5, 2.9, 2.9]\n",
      "17800 89% (271m 36s) 0.0553 All children who att ... / tensor([3.0304, 2.8617, 3.0708]) [2.92, 2.5, 2.92]\n",
      "17900 89% (273m 11s) 0.0512 Your contribution wi ... / tensor([3.3928, 2.8325, 3.1363]) [3.5, 3.12, 3.38]\n",
      "18000 90% (274m 54s) 0.2777 2. Successful comple ... / tensor([2.9259, 2.9466, 2.8072]) [3.5, 3.1, 3.5]\n",
      "18100 90% (276m 34s) 0.0203 Woods also thought t ... / tensor([2.7653, 2.8080, 2.8951]) [2.88, 3.0, 3.0]\n",
      "18200 91% (277m 57s) 0.0284 During times of cris ... / tensor([2.8453, 2.9135, 3.0159]) [2.9, 3.2, 3.0]\n",
      "18300 91% (279m 28s) 0.0667 \"What?\" / tensor([3.0460, 3.0356, 2.9827]) [2.8, 3.4, 2.9]\n",
      "18400 92% (280m 59s) 0.0198 \"What would it hurt? ... / tensor([2.7363, 3.2130, 2.9940]) [2.8, 3.1, 3.2]\n",
      "18500 92% (282m 38s) 0.0247 No, we're the start  ... / tensor([3.0010, 3.1703, 3.1491]) [2.9, 3.2, 3.4]\n",
      "18600 93% (284m 22s) 0.1033 I wanted to prove to ... / tensor([3.0251, 3.2050, 3.0374]) [3.12, 3.5, 3.5]\n",
      "18700 93% (286m 0s) 0.1447 Hackers strike at ke ... / tensor([2.4186, 2.8845, 2.8066]) [2.0, 3.3, 3.1]\n",
      "18800 94% (287m 37s) 0.0252 ‘What did you say?’ / tensor([2.7506, 3.1332, 2.9060]) [3.0, 3.2, 3.0]\n",
      "18900 94% (289m 10s) 0.1540 What's really bother ... / tensor([3.0468, 3.2506, 3.1438]) [2.6, 2.8, 2.9]\n",
      "19000 95% (290m 33s) 0.0113 In a brief speech, S ... / tensor([2.9432, 2.8871, 3.0595]) [3.1, 2.8, 3.1]\n",
      "19100 95% (292m 8s) 0.0241 The United States cu ... / tensor([2.9216, 3.0967, 3.2055]) [2.75, 3.12, 3.0]\n",
      "19200 96% (293m 49s) 0.0461 OK, watch and rememb ... / tensor([3.1158, 3.3251, 3.1085]) [3.14, 3.14, 3.43]\n",
      "19300 96% (295m 15s) 0.1828 Foetal mechanism hel ... / tensor([2.9048, 3.3491, 3.0454]) [3.6, 3.1, 3.1]\n",
      "19400 97% (296m 45s) 0.1597 Lies, damned lies, a ... / tensor([2.5655, 3.3150, 2.9568]) [1.9, 3.5, 3.0]\n",
      "19500 97% (298m 16s) 0.0347 It is paradoxical no ... / tensor([2.8902, 2.9038, 3.1273]) [2.91, 3.0, 2.82]\n",
      "19600 98% (299m 37s) 0.0028 \"I had a friend, the ... / tensor([3.0153, 2.8648, 3.0079]) [3.1, 2.9, 3.0]\n",
      "19700 98% (301m 2s) 0.0226 All three are void a ... / tensor([2.8795, 2.8780, 3.1630]) [2.7, 2.7, 3.1]\n",
      "19800 99% (302m 30s) 0.0315 The boys came in qui ... / tensor([2.7289, 3.1332, 2.9433]) [2.7, 3.3, 3.2]\n",
      "19900 99% (304m 7s) 0.0302 There are fewer boat ... / tensor([2.9348, 2.9141, 2.9365]) [2.8, 2.7, 3.1]\n",
      "20000 100% (305m 36s) 0.1058 The command of a lan ... / tensor([3.0523, 2.9386, 3.0279]) [3.12, 2.38, 3.0]\n"
     ]
    }
   ],
   "source": [
    "import time\n",
    "import math\n",
    "\n",
    "if load_pre_trained==False:\n",
    "    n_iters = 20000\n",
    "    print_every = 100\n",
    "    plot_every = 50\n",
    "\n",
    "    # Keep track of losses for plotting\n",
    "    current_loss = 0\n",
    "    all_losses = []\n",
    "    test_loss = []\n",
    "\n",
    "    def timeSince(since):\n",
    "        now = time.time()\n",
    "        s = now - since\n",
    "        m = math.floor(s / 60)\n",
    "        s -= m * 60\n",
    "        return '%dm %ds' % (m, s)\n",
    "\n",
    "    start = time.time()\n",
    "\n",
    "    for iter in range(1, n_iters + 1):\n",
    "        sentence, VAD, tensor_sentence, tensor_VAD = randomTrainingExample()\n",
    "        output, loss = train(tensor_VAD, tensor_sentence)\n",
    "        current_loss += loss\n",
    "\n",
    "        # Print iter number, loss, name and guess\n",
    "        if iter % print_every == 0:\n",
    "            print('%d %d%% (%s) %.4f %s / %s %s' % (iter, iter / n_iters * 100,  timeSince(start), loss, \n",
    "                                                    portionSentence(sentence), output.data[0], VAD))\n",
    "\n",
    "        # Add current loss avg to list of losses\n",
    "        if iter % plot_every == 0:\n",
    "            all_losses.append(current_loss / plot_every)\n",
    "            current_loss = 0\n",
    "            test_loss.append(test_while_training())\n",
    "else:\n",
    "    rnn.load_state_dict(torch.load('C:\\\\Users\\\\fast\\\\camilo\\\\ST7\\\\rnn_VAD.pt'))\n",
    "    #with the corresponding correct path\n",
    "        "
   ]
  },
  {
   "cell_type": "code",
   "execution_count": 35,
   "metadata": {},
   "outputs": [
    {
     "name": "stderr",
     "output_type": "stream",
     "text": [
      "No handles with labels found to put in legend.\n"
     ]
    },
    {
     "data": {
      "image/png": "[encoded data removed]",
      "text/plain": [
       "<Figure size 432x288 with 1 Axes>"
      ]
     },
     "metadata": {
      "needs_background": "light"
     },
     "output_type": "display_data"
    }
   ],
   "source": [
    "import matplotlib.ticker as ticker\n",
    "\n",
    "if not load_pre_trained:\n",
    "    fig = plt.figure()\n",
    "    ax = plt.subplot(111)\n",
    "    ax.legend()\n",
    "    ax.plot(all_losses,label='training loss')\n",
    "    ax.plot(test_loss,label='test loss')\n",
    "    plt.title('Loss while training')\n",
    "    ax.legend()\n",
    "    plt.show()"
   ]
  },
  {
   "cell_type": "code",
   "execution_count": 36,
   "metadata": {},
   "outputs": [],
   "source": [
    "prediction_2_val, prediction_2_arr, prediction_2_dom = [], [], []\n",
    "for i in test_2.index:\n",
    "    try:\n",
    "        sentence = test_2['text'][i]\n",
    "        s_t = SentenceToTensor(sentence)\n",
    "        pred_val, pred_arr, pred_dom = evaluate(s_t)[0], evaluate(s_t)[1], evaluate(s_t)[2]\n",
    "        prediction_2_val.append(pred_val)\n",
    "        prediction_2_arr.append(pred_arr)\n",
    "        prediction_2_dom.append(pred_dom)\n",
    "    except:\n",
    "        prediction_2_val.append(3.)\n",
    "        prediction_2_arr.append(3.)\n",
    "        prediction_2_dom.append(3.)"
   ]
  },
  {
   "cell_type": "code",
   "execution_count": 37,
   "metadata": {},
   "outputs": [
    {
     "name": "stdout",
     "output_type": "stream",
     "text": [
      "L1 error of approach 1 for valence = 0.2626469714832306\n",
      "L1 error of approach 1 for arrousal = 0.21056396457195284\n",
      "L1 error of approach 1 for dominance = 0.17682739300727848\n"
     ]
    }
   ],
   "source": [
    "Error_Val = np.absolute(prediction_2_val - test_2['V'].values).mean()\n",
    "print('L1 error of approach 1 for valence = '+str(Error_Val))\n",
    "Error_Val = np.absolute(prediction_2_arr - test_2['A'].values).mean()\n",
    "print('L1 error of approach 1 for arrousal = '+str(Error_Val))\n",
    "Error_Val = np.absolute(prediction_2_dom - test_2['D'].values).mean()\n",
    "print('L1 error of approach 1 for dominance = '+str(Error_Val))"
   ]
  },
  {
   "cell_type": "code",
   "execution_count": 44,
   "metadata": {},
   "outputs": [
    {
     "name": "stdout",
     "output_type": "stream",
     "text": [
      "--------------------------------------------------------------------------------------\n",
      "When my father died, a year after my mother, my sisters and I cleaned out their apartment.\n",
      "Valence = 2.0, predicted valence = 2.72741436958313\n",
      "Arrousal = 2.78, predicted arrousal = 3.115412950515747\n",
      "Dominance = 2.0, predicted dominance = 3.0445940494537354\n",
      "--------------------------------------------------------------------------------------\n",
      "Outdated baby food found on shelves\n",
      "Valence = 1.89, predicted valence = 2.974700927734375\n",
      "Arrousal = 3.22, predicted arrousal = 3.196429491043091\n",
      "Dominance = 1.89, predicted dominance = 3.132033348083496\n",
      "--------------------------------------------------------------------------------------\n",
      "So empty it hurt.\n",
      "Valence = 2.0, predicted valence = 2.493443012237549\n",
      "Arrousal = 3.25, predicted arrousal = 3.032355785369873\n",
      "Dominance = 2.0, predicted dominance = 3.021170139312744\n",
      "--------------------------------------------------------------------------------------\n",
      "\"This is a criminal act and it certainly puts things in a different league,\"\n",
      "Valence = 2.0, predicted valence = 2.9761714935302734\n",
      "Arrousal = 3.1, predicted arrousal = 3.1321938037872314\n",
      "Dominance = 2.0, predicted dominance = 3.30340576171875\n"
     ]
    }
   ],
   "source": [
    "for i in [7518, 4949, 7066, 2947]:\n",
    "    print('--------------------------------------------------------------------------------------')\n",
    "    sentence = test_2['text'][i]\n",
    "    s_t = SentenceToTensor(sentence)\n",
    "    pred_val, pred_arr, pred_dom = evaluate(s_t)[0], evaluate(s_t)[1], evaluate(s_t)[2]\n",
    "    val, arr, dom  = test_2['V'][i], test_2['A'][i], test_2['D'][i]\n",
    "    print(test_1['text'][i])\n",
    "    print('Valence = {}, predicted valence = {}'.format(val,pred_val))\n",
    "    print('Arrousal = {}, predicted arrousal = {}'.format(arr,pred_arr))\n",
    "    print('Dominance = {}, predicted dominance = {}'.format(val,pred_dom))"
   ]
  },
  {
   "cell_type": "code",
   "execution_count": 45,
   "metadata": {},
   "outputs": [
    {
     "name": "stdout",
     "output_type": "stream",
     "text": [
      "--------------------------------------------------------------------------------------\n",
      "And the last lesson -- have fun .\n",
      "Valence = 4.0, predicted valence = 3.11696195602417\n",
      "Arrousal = 3.14, predicted arrousal = 3.094287157058716\n",
      "Dominance = 4.0, predicted dominance = 3.156259059906006\n",
      "--------------------------------------------------------------------------------------\n",
      "Canadian breakthrough offers hope on autism\n",
      "Valence = 3.88, predicted valence = 2.9939565658569336\n",
      "Arrousal = 3.5, predicted arrousal = 2.6970303058624268\n",
      "Dominance = 3.88, predicted dominance = 2.9542040824890137\n",
      "--------------------------------------------------------------------------------------\n",
      "We slammed against the doorway and I was laughing too, the pulse close enough to shake the doorframe and set up vibrations in my chest, Rachel in my arms because she’d used me to soften her landing.\n",
      "Valence = 4.1, predicted valence = 2.611011028289795\n",
      "Arrousal = 3.8, predicted arrousal = 2.972097396850586\n",
      "Dominance = 4.1, predicted dominance = 2.896580457687378\n",
      "--------------------------------------------------------------------------------------\n",
      "The proverbial hospitality and warm welcome are still here.\n",
      "Valence = 3.75, predicted valence = 3.0658459663391113\n",
      "Arrousal = 3.12, predicted arrousal = 2.9723870754241943\n",
      "Dominance = 3.75, predicted dominance = 3.0354204177856445\n"
     ]
    }
   ],
   "source": [
    "for i in [4455, 4618, 3871, 2613]:\n",
    "    print('--------------------------------------------------------------------------------------')\n",
    "    sentence = test_2['text'][i]\n",
    "    s_t = SentenceToTensor(sentence)\n",
    "    pred_val, pred_arr, pred_dom = evaluate(s_t)[0], evaluate(s_t)[1], evaluate(s_t)[2]\n",
    "    val, arr, dom  = test_2['V'][i], test_2['A'][i], test_2['D'][i]\n",
    "    print(test_1['text'][i])\n",
    "    print('Valence = {}, predicted valence = {}'.format(val,pred_val))\n",
    "    print('Arrousal = {}, predicted arrousal = {}'.format(arr,pred_arr))\n",
    "    print('Dominance = {}, predicted dominance = {}'.format(val,pred_dom))"
   ]
  },
  {
   "cell_type": "markdown",
   "metadata": {},
   "source": [
    "## User input\n",
    "And then we can just try to predict any sentence..."
   ]
  },
  {
   "cell_type": "code",
   "execution_count": 46,
   "metadata": {},
   "outputs": [],
   "source": [
    "def VAD_sentence(sen):\n",
    "    print('--------------------------------------------------------------------------------------')\n",
    "    s_t = SentenceToTensor(sen)\n",
    "    val, arr, dom = evaluate(s_t)[0], evaluate(s_t)[1], evaluate(s_t)[2]\n",
    "    print('Evaluating the following sentence = '+sen)\n",
    "    print('Valence = {}, Arrousal = {}, Dominance = {}'.format(val,arr,dom))"
   ]
  },
  {
   "cell_type": "code",
   "execution_count": 47,
   "metadata": {},
   "outputs": [
    {
     "name": "stdout",
     "output_type": "stream",
     "text": [
      "--------------------------------------------------------------------------------------\n",
      "Evaluating the following sentence = im tired of being locked in\n",
      "Valence = 2.068488597869873, Arrousal = 2.7384531497955322, Dominance = 2.434692859649658\n"
     ]
    }
   ],
   "source": [
    "#write your sentence here\n",
    "sentence = 'im tired of being locked in'\n",
    "VAD_sentence(sentence)"
   ]
  },
  {
   "cell_type": "markdown",
   "metadata": {},
   "source": [
    "**Can we turn these values into emotions?**"
   ]
  },
  {
   "cell_type": "markdown",
   "metadata": {},
   "source": [
    "## Saving Model"
   ]
  },
  {
   "cell_type": "code",
   "execution_count": 49,
   "metadata": {},
   "outputs": [],
   "source": [
    "if not load_pre_trained:\n",
    "    torch.save(rnn.state_dict(), 'C:\\\\Users\\\\fast\\\\camilo\\\\ST7\\\\rnn_VAD.pt')"
   ]
  }
 ],
 "metadata": {
  "kernelspec": {
   "display_name": "Python 3.7 (ST7)",
   "language": "python",
   "name": "st7"
  },
  "language_info": {
   "codemirror_mode": {
    "name": "ipython",
    "version": 3
   },
   "file_extension": ".py",
   "mimetype": "text/x-python",
   "name": "python",
   "nbconvert_exporter": "python",
   "pygments_lexer": "ipython3",
   "version": "3.7.6"
  }
 },
 "nbformat": 4,
 "nbformat_minor": 4
}
