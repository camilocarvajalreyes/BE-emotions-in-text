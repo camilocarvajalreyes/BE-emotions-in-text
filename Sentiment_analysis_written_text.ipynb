{
 "cells": [
  {
   "cell_type": "markdown",
   "metadata": {},
   "source": [
    "# Sentiment analysis of written text\n",
    "Author: Camilo"
   ]
  },
  {
   "cell_type": "markdown",
   "metadata": {},
   "source": [
    "## Data set\n",
    "We load the EmoBank data set\n",
    "\n",
    "https://github.com/JULIELab/EmoBank\n",
    "\n",
    "Sven Buechel and Udo Hahn. 2017. EmoBank: Studying the Impact of Annotation Perspective and Representation Format on Dimensional Emotion Analysis. In EACL 2017 - Proceedings of the 15th Conference of the European Chapter of the Association for Computational Linguistics. Valencia, Spain, April 3-7, 2017. Volume 2, Short Papers, pages 578-585. Available: http://aclweb.org/anthology/E17-2092\n",
    "\n",
    "Sven Buechel and Udo Hahn. 2017. Readers vs. writers vs. texts: Coping with different perspectives of text understanding in emotion annotation. In LAW 2017 - Proceedings of the 11th Linguistic Annotation Workshop @ EACL 2017. Valencia, Spain, April 3, 2017, pages 1-12. Available: https://sigann.github.io/LAW-XI-2017/papers/LAW01.pdf"
   ]
  },
  {
   "cell_type": "code",
   "execution_count": 20,
   "metadata": {},
   "outputs": [],
   "source": [
    "import pandas as pd\n",
    "import matplotlib.pyplot as plt\n",
    "import numpy as np\n",
    "import warnings\n",
    "warnings.filterwarnings(\"ignore\")"
   ]
  },
  {
   "cell_type": "code",
   "execution_count": 35,
   "metadata": {},
   "outputs": [
    {
     "data": {
      "text/html": [
       "<div>\n",
       "<style scoped>\n",
       "    .dataframe tbody tr th:only-of-type {\n",
       "        vertical-align: middle;\n",
       "    }\n",
       "\n",
       "    .dataframe tbody tr th {\n",
       "        vertical-align: top;\n",
       "    }\n",
       "\n",
       "    .dataframe thead th {\n",
       "        text-align: right;\n",
       "    }\n",
       "</style>\n",
       "<table border=\"1\" class=\"dataframe\">\n",
       "  <thead>\n",
       "    <tr style=\"text-align: right;\">\n",
       "      <th></th>\n",
       "      <th>split</th>\n",
       "      <th>V</th>\n",
       "      <th>A</th>\n",
       "      <th>D</th>\n",
       "      <th>text</th>\n",
       "    </tr>\n",
       "  </thead>\n",
       "  <tbody>\n",
       "    <tr>\n",
       "      <th>0</th>\n",
       "      <td>train</td>\n",
       "      <td>3.00</td>\n",
       "      <td>3.00</td>\n",
       "      <td>3.20</td>\n",
       "      <td>Remember what she said in my last letter? \"</td>\n",
       "    </tr>\n",
       "    <tr>\n",
       "      <th>1</th>\n",
       "      <td>test</td>\n",
       "      <td>2.80</td>\n",
       "      <td>3.10</td>\n",
       "      <td>2.80</td>\n",
       "      <td>If I wasn't working here.</td>\n",
       "    </tr>\n",
       "    <tr>\n",
       "      <th>2</th>\n",
       "      <td>train</td>\n",
       "      <td>3.00</td>\n",
       "      <td>3.00</td>\n",
       "      <td>3.00</td>\n",
       "      <td>..\"</td>\n",
       "    </tr>\n",
       "    <tr>\n",
       "      <th>3</th>\n",
       "      <td>train</td>\n",
       "      <td>3.44</td>\n",
       "      <td>3.00</td>\n",
       "      <td>3.22</td>\n",
       "      <td>Goodwill helps people get off of public assistance.</td>\n",
       "    </tr>\n",
       "    <tr>\n",
       "      <th>4</th>\n",
       "      <td>train</td>\n",
       "      <td>3.55</td>\n",
       "      <td>3.27</td>\n",
       "      <td>3.46</td>\n",
       "      <td>Sherry learned through our Future Works class that she could rise out of the mire of the welfare system and support ...</td>\n",
       "    </tr>\n",
       "  </tbody>\n",
       "</table>\n",
       "</div>"
      ],
      "text/plain": [
       "   split     V     A     D  \\\n",
       "0  train  3.00  3.00  3.20   \n",
       "1   test  2.80  3.10  2.80   \n",
       "2  train  3.00  3.00  3.00   \n",
       "3  train  3.44  3.00  3.22   \n",
       "4  train  3.55  3.27  3.46   \n",
       "\n",
       "                                                                                                                      text  \n",
       "0                                                                              Remember what she said in my last letter? \"  \n",
       "1                                                                                                If I wasn't working here.  \n",
       "2                                                                                                                      ..\"  \n",
       "3                                                                      Goodwill helps people get off of public assistance.  \n",
       "4  Sherry learned through our Future Works class that she could rise out of the mire of the welfare system and support ...  "
      ]
     },
     "execution_count": 35,
     "metadata": {},
     "output_type": "execute_result"
    }
   ],
   "source": [
    "eb = pd.read_csv(\"C:\\\\Users\\\\fast\\\\camilo\\\\ST7\\\\EmoBank-master\\\\corpus\\\\emobank.csv\")\n",
    "pd.set_option('max_colwidth', 120)\n",
    "eb = eb.drop(['id'], axis=1)\n",
    "eb.head()"
   ]
  },
  {
   "cell_type": "markdown",
   "metadata": {},
   "source": [
    "### Some data exploration"
   ]
  },
  {
   "cell_type": "code",
   "execution_count": 3,
   "metadata": {},
   "outputs": [
    {
     "name": "stdout",
     "output_type": "stream",
     "text": [
      "Histograms of Valence, Arousal and Dominance respectively\n"
     ]
    },
    {
     "data": {
      "image/png": "[encoded data removed]",
      "text/plain": [
       "<Figure size 1152x216 with 3 Axes>"
      ]
     },
     "metadata": {
      "needs_background": "light"
     },
     "output_type": "display_data"
    }
   ],
   "source": [
    "##### import matplotlib.pyplot as plt\n",
    "\n",
    "print('Histograms of Valence, Arousal and Dominance respectively')\n",
    "valence, arousal, dominance = eb['V'], eb['A'], eb['D']\n",
    "VAR = [valence, arousal, dominance]\n",
    "fig, axes = plt.subplots(1,3,figsize=(16,3))\n",
    "for i, ax in enumerate(axes.flat):\n",
    "    ax.hist(VAR[i], bins=50) "
   ]
  },
  {
   "cell_type": "markdown",
   "metadata": {},
   "source": [
    "## NRC VAD lexicon\n",
    "\n",
    "Using lexicons from Saif M. Mohammad: http://www.saifmohammad.com/WebPages/lexicons.html\n",
    "\n",
    "And pre-trained word embedding vectors: https://nlp.stanford.edu/projects/glove/\n",
    "\n",
    "Obtaining Reliable Human Ratings of Valence, Arousal, and Dominance for 20,000 English Words. Saif M. Mohammad. In Proceedings of the 56th Annual Meeting of the Association for Computational Linguistics, Melbourne, Australia, July 2018.\n",
    "\n",
    "Jeffrey Pennington, Richard Socher, and Christopher D. Manning. 2014. GloVe: Global Vectors for Word Representation."
   ]
  },
  {
   "cell_type": "code",
   "execution_count": 4,
   "metadata": {},
   "outputs": [
    {
     "data": {
      "text/html": [
       "<div>\n",
       "<style scoped>\n",
       "    .dataframe tbody tr th:only-of-type {\n",
       "        vertical-align: middle;\n",
       "    }\n",
       "\n",
       "    .dataframe tbody tr th {\n",
       "        vertical-align: top;\n",
       "    }\n",
       "\n",
       "    .dataframe thead th {\n",
       "        text-align: right;\n",
       "    }\n",
       "</style>\n",
       "<table border=\"1\" class=\"dataframe\">\n",
       "  <thead>\n",
       "    <tr style=\"text-align: right;\">\n",
       "      <th></th>\n",
       "      <th>valence</th>\n",
       "      <th>arousal</th>\n",
       "      <th>dominance</th>\n",
       "      <th>dim_1</th>\n",
       "      <th>dim_2</th>\n",
       "      <th>dim_3</th>\n",
       "      <th>dim_4</th>\n",
       "      <th>dim_5</th>\n",
       "      <th>dim_6</th>\n",
       "      <th>dim_7</th>\n",
       "      <th>...</th>\n",
       "      <th>dim_291</th>\n",
       "      <th>dim_292</th>\n",
       "      <th>dim_293</th>\n",
       "      <th>dim_294</th>\n",
       "      <th>dim_295</th>\n",
       "      <th>dim_296</th>\n",
       "      <th>dim_297</th>\n",
       "      <th>dim_298</th>\n",
       "      <th>dim_299</th>\n",
       "      <th>dim_300</th>\n",
       "    </tr>\n",
       "    <tr>\n",
       "      <th>word</th>\n",
       "      <th></th>\n",
       "      <th></th>\n",
       "      <th></th>\n",
       "      <th></th>\n",
       "      <th></th>\n",
       "      <th></th>\n",
       "      <th></th>\n",
       "      <th></th>\n",
       "      <th></th>\n",
       "      <th></th>\n",
       "      <th></th>\n",
       "      <th></th>\n",
       "      <th></th>\n",
       "      <th></th>\n",
       "      <th></th>\n",
       "      <th></th>\n",
       "      <th></th>\n",
       "      <th></th>\n",
       "      <th></th>\n",
       "      <th></th>\n",
       "      <th></th>\n",
       "    </tr>\n",
       "  </thead>\n",
       "  <tbody>\n",
       "    <tr>\n",
       "      <th>aardvark</th>\n",
       "      <td>0.427</td>\n",
       "      <td>0.490</td>\n",
       "      <td>0.437</td>\n",
       "      <td>-0.349260</td>\n",
       "      <td>-0.553240</td>\n",
       "      <td>-0.430850</td>\n",
       "      <td>0.510470</td>\n",
       "      <td>0.40767</td>\n",
       "      <td>0.095694</td>\n",
       "      <td>-0.17689</td>\n",
       "      <td>...</td>\n",
       "      <td>-0.500660</td>\n",
       "      <td>-0.157680</td>\n",
       "      <td>-0.77059</td>\n",
       "      <td>0.005665</td>\n",
       "      <td>-0.321810</td>\n",
       "      <td>-0.78144</td>\n",
       "      <td>0.164200</td>\n",
       "      <td>0.624030</td>\n",
       "      <td>0.17806</td>\n",
       "      <td>-0.101510</td>\n",
       "    </tr>\n",
       "    <tr>\n",
       "      <th>aback</th>\n",
       "      <td>0.385</td>\n",
       "      <td>0.407</td>\n",
       "      <td>0.288</td>\n",
       "      <td>0.018572</td>\n",
       "      <td>-0.091755</td>\n",
       "      <td>0.234470</td>\n",
       "      <td>-0.398870</td>\n",
       "      <td>0.14438</td>\n",
       "      <td>0.041793</td>\n",
       "      <td>0.45685</td>\n",
       "      <td>...</td>\n",
       "      <td>0.136600</td>\n",
       "      <td>-0.410070</td>\n",
       "      <td>0.34458</td>\n",
       "      <td>-0.069210</td>\n",
       "      <td>-0.011236</td>\n",
       "      <td>-0.28098</td>\n",
       "      <td>0.070116</td>\n",
       "      <td>0.403770</td>\n",
       "      <td>-0.14337</td>\n",
       "      <td>0.065997</td>\n",
       "    </tr>\n",
       "    <tr>\n",
       "      <th>abacus</th>\n",
       "      <td>0.510</td>\n",
       "      <td>0.276</td>\n",
       "      <td>0.485</td>\n",
       "      <td>-0.002865</td>\n",
       "      <td>-0.071534</td>\n",
       "      <td>-0.346530</td>\n",
       "      <td>0.275440</td>\n",
       "      <td>0.19806</td>\n",
       "      <td>-0.097807</td>\n",
       "      <td>-0.13528</td>\n",
       "      <td>...</td>\n",
       "      <td>-0.312060</td>\n",
       "      <td>-0.161740</td>\n",
       "      <td>-0.54930</td>\n",
       "      <td>0.276720</td>\n",
       "      <td>0.714070</td>\n",
       "      <td>-0.35514</td>\n",
       "      <td>-0.180200</td>\n",
       "      <td>0.405210</td>\n",
       "      <td>-0.24642</td>\n",
       "      <td>0.005458</td>\n",
       "    </tr>\n",
       "    <tr>\n",
       "      <th>abalone</th>\n",
       "      <td>0.500</td>\n",
       "      <td>0.480</td>\n",
       "      <td>0.412</td>\n",
       "      <td>0.709240</td>\n",
       "      <td>0.460650</td>\n",
       "      <td>-0.038441</td>\n",
       "      <td>0.039853</td>\n",
       "      <td>-0.00113</td>\n",
       "      <td>0.030408</td>\n",
       "      <td>-0.44903</td>\n",
       "      <td>...</td>\n",
       "      <td>-0.057243</td>\n",
       "      <td>0.016303</td>\n",
       "      <td>0.74038</td>\n",
       "      <td>0.018888</td>\n",
       "      <td>-0.468430</td>\n",
       "      <td>-0.53066</td>\n",
       "      <td>0.449360</td>\n",
       "      <td>0.037575</td>\n",
       "      <td>0.95823</td>\n",
       "      <td>-0.346630</td>\n",
       "    </tr>\n",
       "    <tr>\n",
       "      <th>abandon</th>\n",
       "      <td>0.052</td>\n",
       "      <td>0.519</td>\n",
       "      <td>0.245</td>\n",
       "      <td>0.255620</td>\n",
       "      <td>-0.166040</td>\n",
       "      <td>-0.120690</td>\n",
       "      <td>-0.432870</td>\n",
       "      <td>0.10721</td>\n",
       "      <td>-0.493020</td>\n",
       "      <td>0.36993</td>\n",
       "      <td>...</td>\n",
       "      <td>-0.588510</td>\n",
       "      <td>-0.490100</td>\n",
       "      <td>0.48357</td>\n",
       "      <td>-0.027909</td>\n",
       "      <td>-0.023546</td>\n",
       "      <td>0.18434</td>\n",
       "      <td>0.061770</td>\n",
       "      <td>-0.258670</td>\n",
       "      <td>0.14337</td>\n",
       "      <td>0.014162</td>\n",
       "    </tr>\n",
       "  </tbody>\n",
       "</table>\n",
       "<p>5 rows × 303 columns</p>\n",
       "</div>"
      ],
      "text/plain": [
       "          valence  arousal  dominance     dim_1     dim_2     dim_3     dim_4  \\\n",
       "word                                                                            \n",
       "aardvark    0.427    0.490      0.437 -0.349260 -0.553240 -0.430850  0.510470   \n",
       "aback       0.385    0.407      0.288  0.018572 -0.091755  0.234470 -0.398870   \n",
       "abacus      0.510    0.276      0.485 -0.002865 -0.071534 -0.346530  0.275440   \n",
       "abalone     0.500    0.480      0.412  0.709240  0.460650 -0.038441  0.039853   \n",
       "abandon     0.052    0.519      0.245  0.255620 -0.166040 -0.120690 -0.432870   \n",
       "\n",
       "            dim_5     dim_6    dim_7  ...   dim_291   dim_292  dim_293  \\\n",
       "word                                  ...                                \n",
       "aardvark  0.40767  0.095694 -0.17689  ... -0.500660 -0.157680 -0.77059   \n",
       "aback     0.14438  0.041793  0.45685  ...  0.136600 -0.410070  0.34458   \n",
       "abacus    0.19806 -0.097807 -0.13528  ... -0.312060 -0.161740 -0.54930   \n",
       "abalone  -0.00113  0.030408 -0.44903  ... -0.057243  0.016303  0.74038   \n",
       "abandon   0.10721 -0.493020  0.36993  ... -0.588510 -0.490100  0.48357   \n",
       "\n",
       "           dim_294   dim_295  dim_296   dim_297   dim_298  dim_299   dim_300  \n",
       "word                                                                          \n",
       "aardvark  0.005665 -0.321810 -0.78144  0.164200  0.624030  0.17806 -0.101510  \n",
       "aback    -0.069210 -0.011236 -0.28098  0.070116  0.403770 -0.14337  0.065997  \n",
       "abacus    0.276720  0.714070 -0.35514 -0.180200  0.405210 -0.24642  0.005458  \n",
       "abalone   0.018888 -0.468430 -0.53066  0.449360  0.037575  0.95823 -0.346630  \n",
       "abandon  -0.027909 -0.023546  0.18434  0.061770 -0.258670  0.14337  0.014162  \n",
       "\n",
       "[5 rows x 303 columns]"
      ]
     },
     "execution_count": 4,
     "metadata": {},
     "output_type": "execute_result"
    }
   ],
   "source": [
    "VAD_words = pd.read_csv(\"NRC-VAD_glove-wiki-gigaword-300.csv\", index_col=0)\n",
    "VAD_words.head()"
   ]
  },
  {
   "cell_type": "code",
   "execution_count": 5,
   "metadata": {},
   "outputs": [
    {
     "name": "stdout",
     "output_type": "stream",
     "text": [
      "Histograms of Valence, Arousal and Dominance respectively, word level\n"
     ]
    },
    {
     "data": {
      "image/png": "[encoded data removed]",
      "text/plain": [
       "<Figure size 1152x216 with 3 Axes>"
      ]
     },
     "metadata": {
      "needs_background": "light"
     },
     "output_type": "display_data"
    }
   ],
   "source": [
    "print('Histograms of Valence, Arousal and Dominance respectively, word level')\n",
    "VAR_w = [VAD_words['valence'], VAD_words['arousal'], VAD_words['dominance']]\n",
    "fig, axes = plt.subplots(1,3,figsize=(16,3))\n",
    "for i, ax in enumerate(axes.flat):\n",
    "    ax.hist(VAR_w[i], bins=50) "
   ]
  },
  {
   "cell_type": "markdown",
   "metadata": {},
   "source": [
    "## Let's try different approaches!\n",
    "Goal is to predict the VAD values of a sentence from its input. Then it would also be great to acquire some model understanding on the way!\n",
    "### Approach 1 : average of word's VAD value\n",
    "An intuitive way of facing this problem could be to just take the mean of the VAD values for each word in the sentence. That way, if we had more negative words (valence) the sentence would naturally be more negative. The parameters to learn in this case would be those of the simple linear relation:\n",
    "$$VADsentence(x_1, x_2, \\dots x_n) = a*(VADword(x_1)+VADword(x_2)+ \\dots +VADword(x_n))/n+b$$\n",
    "Notice that they are all 3 component vectors."
   ]
  },
  {
   "cell_type": "code",
   "execution_count": 86,
   "metadata": {},
   "outputs": [],
   "source": [
    "def estimate_coef(x, y): \n",
    "    # number of observations/points \n",
    "    n = np.size(x)\n",
    "  \n",
    "    # mean of x and y vector \n",
    "    m_x, m_y = np.mean(x), np.mean(y) \n",
    "  \n",
    "    # calculating cross-deviation and deviation about x \n",
    "    SS_xy = np.sum(y*x) - n*m_y*m_x \n",
    "    SS_xx = np.sum(x*x) - n*m_x*m_x \n",
    "  \n",
    "    # calculating regression coefficients \n",
    "    a = SS_xy / SS_xx \n",
    "    b = m_y - a*m_x \n",
    "  \n",
    "    return(a, b)"
   ]
  },
  {
   "cell_type": "code",
   "execution_count": 7,
   "metadata": {},
   "outputs": [],
   "source": [
    "import re\n",
    "def normalizeString(s):\n",
    "    s = re.sub(r\"([.!?])\", r\" \\1\", s)\n",
    "    s = re.sub(r\"[^a-zA-Z.!?]+\", r\" \", s)\n",
    "    return s"
   ]
  },
  {
   "cell_type": "code",
   "execution_count": 8,
   "metadata": {},
   "outputs": [],
   "source": [
    "def get_vec(word):\n",
    "    #returns vad+300 glove vector\n",
    "    return VAD_words.loc[word]"
   ]
  },
  {
   "cell_type": "code",
   "execution_count": 9,
   "metadata": {},
   "outputs": [
    {
     "data": {
      "text/plain": [
       "valence      0.635000\n",
       "arousal      0.279000\n",
       "dominance    0.342000\n",
       "dim_1       -0.362010\n",
       "dim_2       -0.429600\n",
       "               ...   \n",
       "dim_296      0.068602\n",
       "dim_297      0.623580\n",
       "dim_298     -0.595160\n",
       "dim_299     -0.433940\n",
       "dim_300     -0.431170\n",
       "Name: letter, Length: 303, dtype: float64"
      ]
     },
     "execution_count": 9,
     "metadata": {},
     "output_type": "execute_result"
    }
   ],
   "source": [
    "get_vec('letter')"
   ]
  },
  {
   "cell_type": "code",
   "execution_count": 10,
   "metadata": {},
   "outputs": [],
   "source": [
    "def compute_VAD_mean(sentence):\n",
    "    #takes a string (sentence) and returns the average VAD vector\n",
    "    sentence = sentence.lower()\n",
    "    sentence = normalizeString(sentence)\n",
    "    words = sentence.split()\n",
    "    vectors = []\n",
    "    for word in words:\n",
    "        try:\n",
    "            vec = [i for i in VAD_words.loc[word][:3]]\n",
    "            vectors.append(vec)\n",
    "        except:\n",
    "            #if word not in the lexicon then it must be neutral\n",
    "            vectors.append([.5, .5, .5])\n",
    "    valence = np.mean([vector[0] for vector in vectors])\n",
    "    arrousal = np.mean([vector[1] for vector in vectors])\n",
    "    dominance = np.mean([vector[2] for vector in vectors])\n",
    "    return valence, arrousal, dominance"
   ]
  },
  {
   "cell_type": "code",
   "execution_count": 11,
   "metadata": {},
   "outputs": [
    {
     "data": {
      "text/plain": [
       "(0.5, 0.5, 0.5)"
      ]
     },
     "execution_count": 11,
     "metadata": {},
     "output_type": "execute_result"
    }
   ],
   "source": [
    "compute_VAD_mean('..\"')"
   ]
  },
  {
   "cell_type": "markdown",
   "metadata": {},
   "source": [
    "We add columns to keep the VAD average values"
   ]
  },
  {
   "cell_type": "code",
   "execution_count": 36,
   "metadata": {},
   "outputs": [],
   "source": [
    "eb[\"V_words\"] = \"\"\n",
    "eb[\"A_words\"] = \"\"\n",
    "eb[\"D_words\"] = \"\""
   ]
  },
  {
   "cell_type": "code",
   "execution_count": 39,
   "metadata": {},
   "outputs": [],
   "source": [
    "for i in range(len(eb)):\n",
    "    eb['V_words'][i], eb['A_words'][i], eb['D_words'][i] = compute_VAD_mean(eb['text'][i])"
   ]
  },
  {
   "cell_type": "code",
   "execution_count": 40,
   "metadata": {},
   "outputs": [
    {
     "data": {
      "text/html": [
       "<div>\n",
       "<style scoped>\n",
       "    .dataframe tbody tr th:only-of-type {\n",
       "        vertical-align: middle;\n",
       "    }\n",
       "\n",
       "    .dataframe tbody tr th {\n",
       "        vertical-align: top;\n",
       "    }\n",
       "\n",
       "    .dataframe thead th {\n",
       "        text-align: right;\n",
       "    }\n",
       "</style>\n",
       "<table border=\"1\" class=\"dataframe\">\n",
       "  <thead>\n",
       "    <tr style=\"text-align: right;\">\n",
       "      <th></th>\n",
       "      <th>split</th>\n",
       "      <th>V</th>\n",
       "      <th>A</th>\n",
       "      <th>D</th>\n",
       "      <th>text</th>\n",
       "      <th>V_words</th>\n",
       "      <th>A_words</th>\n",
       "      <th>D_words</th>\n",
       "    </tr>\n",
       "  </thead>\n",
       "  <tbody>\n",
       "    <tr>\n",
       "      <th>0</th>\n",
       "      <td>train</td>\n",
       "      <td>3.00</td>\n",
       "      <td>3.00</td>\n",
       "      <td>3.20</td>\n",
       "      <td>Remember what she said in my last letter? \"</td>\n",
       "      <td>0.545667</td>\n",
       "      <td>0.466778</td>\n",
       "      <td>0.477333</td>\n",
       "    </tr>\n",
       "    <tr>\n",
       "      <th>1</th>\n",
       "      <td>test</td>\n",
       "      <td>2.80</td>\n",
       "      <td>3.10</td>\n",
       "      <td>2.80</td>\n",
       "      <td>If I wasn't working here.</td>\n",
       "      <td>0.534286</td>\n",
       "      <td>0.512143</td>\n",
       "      <td>0.510857</td>\n",
       "    </tr>\n",
       "    <tr>\n",
       "      <th>2</th>\n",
       "      <td>train</td>\n",
       "      <td>3.00</td>\n",
       "      <td>3.00</td>\n",
       "      <td>3.00</td>\n",
       "      <td>..\"</td>\n",
       "      <td>0.5</td>\n",
       "      <td>0.5</td>\n",
       "      <td>0.5</td>\n",
       "    </tr>\n",
       "    <tr>\n",
       "      <th>3</th>\n",
       "      <td>train</td>\n",
       "      <td>3.44</td>\n",
       "      <td>3.00</td>\n",
       "      <td>3.22</td>\n",
       "      <td>Goodwill helps people get off of public assistance.</td>\n",
       "      <td>0.614444</td>\n",
       "      <td>0.483333</td>\n",
       "      <td>0.570111</td>\n",
       "    </tr>\n",
       "    <tr>\n",
       "      <th>4</th>\n",
       "      <td>train</td>\n",
       "      <td>3.55</td>\n",
       "      <td>3.27</td>\n",
       "      <td>3.46</td>\n",
       "      <td>Sherry learned through our Future Works class that she could rise out of the mire of the welfare system and support ...</td>\n",
       "      <td>0.596875</td>\n",
       "      <td>0.474125</td>\n",
       "      <td>0.549542</td>\n",
       "    </tr>\n",
       "  </tbody>\n",
       "</table>\n",
       "</div>"
      ],
      "text/plain": [
       "   split     V     A     D  \\\n",
       "0  train  3.00  3.00  3.20   \n",
       "1   test  2.80  3.10  2.80   \n",
       "2  train  3.00  3.00  3.00   \n",
       "3  train  3.44  3.00  3.22   \n",
       "4  train  3.55  3.27  3.46   \n",
       "\n",
       "                                                                                                                      text  \\\n",
       "0                                                                              Remember what she said in my last letter? \"   \n",
       "1                                                                                                If I wasn't working here.   \n",
       "2                                                                                                                      ..\"   \n",
       "3                                                                      Goodwill helps people get off of public assistance.   \n",
       "4  Sherry learned through our Future Works class that she could rise out of the mire of the welfare system and support ...   \n",
       "\n",
       "    V_words   A_words   D_words  \n",
       "0  0.545667  0.466778  0.477333  \n",
       "1  0.534286  0.512143  0.510857  \n",
       "2       0.5       0.5       0.5  \n",
       "3  0.614444  0.483333  0.570111  \n",
       "4  0.596875  0.474125  0.549542  "
      ]
     },
     "execution_count": 40,
     "metadata": {},
     "output_type": "execute_result"
    }
   ],
   "source": [
    "eb.head()"
   ]
  },
  {
   "cell_type": "markdown",
   "metadata": {},
   "source": [
    "Now we only consider the training sentences"
   ]
  },
  {
   "cell_type": "code",
   "execution_count": 41,
   "metadata": {},
   "outputs": [],
   "source": [
    "train_1 = eb[eb.split=='train']"
   ]
  },
  {
   "cell_type": "markdown",
   "metadata": {},
   "source": [
    "### Estimating coefficients for valence"
   ]
  },
  {
   "cell_type": "code",
   "execution_count": 87,
   "metadata": {},
   "outputs": [
    {
     "name": "stdout",
     "output_type": "stream",
     "text": [
      "Coefficients for Valence: a = 2.839421168278393, b = 1.454510105282507\n"
     ]
    }
   ],
   "source": [
    "a_val, b_val = estimate_coef(train_1['V_words'], train_1['V'])\n",
    "print('Coefficients for Valence: a = '+str(a_val)+', b = '+str(b_val))"
   ]
  },
  {
   "cell_type": "markdown",
   "metadata": {},
   "source": [
    "### Testing the approach\n",
    "We will now consider the test set, we'll predict the valence of the text and we'll compare it with the actual value"
   ]
  },
  {
   "cell_type": "code",
   "execution_count": 60,
   "metadata": {},
   "outputs": [],
   "source": [
    "test_1 = eb[eb.split=='test']\n",
    "prediction_1_val = []\n",
    "for i in test_1['V_words']:\n",
    "    prediction_1_val.append(a_val*i + b_val)"
   ]
  },
  {
   "cell_type": "code",
   "execution_count": 66,
   "metadata": {},
   "outputs": [
    {
     "name": "stdout",
     "output_type": "stream",
     "text": [
      "Mean squared error of approach 1 for valence = 0.099985207718358\n"
     ]
    }
   ],
   "source": [
    "MSE_Val = ((prediction_1_val - test_1['V'].values)**2).mean()\n",
    "print('Mean squared error of approach 1 for valence = '+str(MSE_Val))"
   ]
  },
  {
   "cell_type": "markdown",
   "metadata": {},
   "source": [
    "Lets look at a couple of examples to see if it isn't a generalisation..."
   ]
  },
  {
   "cell_type": "code",
   "execution_count": 77,
   "metadata": {},
   "outputs": [
    {
     "name": "stdout",
     "output_type": "stream",
     "text": [
      "--------------------------------------------------------------------------------------\n",
      "When my father died, a year after my mother, my sisters and I cleaned out their apartment.\n",
      "Valence = 2.0, predicted valence = 2.9570371401631563\n",
      "--------------------------------------------------------------------------------------\n",
      "Outdated baby food found on shelves\n",
      "Valence = 1.89, predicted valence = 3.217317413922009\n",
      "--------------------------------------------------------------------------------------\n",
      "So empty it hurt.\n",
      "Valence = 2.0, predicted valence = 2.4483075141799446\n",
      "--------------------------------------------------------------------------------------\n",
      "\"This is a criminal act and it certainly puts things in a different league,\"\n",
      "Valence = 2.0, predicted valence = 2.852316583266413\n"
     ]
    }
   ],
   "source": [
    "for i in [7518, 4949, 7066, 2947]:\n",
    "    print('--------------------------------------------------------------------------------------')\n",
    "    val_word = test_1['V_words'][i]\n",
    "    val, pred = test_1['V'][i], val_word*a_val + b_val\n",
    "    print(test_1['text'][i])\n",
    "    print('Valence = {}, predicted valence = {}'.format(val,pred))"
   ]
  },
  {
   "cell_type": "code",
   "execution_count": 84,
   "metadata": {},
   "outputs": [
    {
     "name": "stdout",
     "output_type": "stream",
     "text": [
      "--------------------------------------------------------------------------------------\n",
      "And the last lesson -- have fun .\n",
      "Valence = 4.0, predicted valence = 3.2307708618383764\n",
      "--------------------------------------------------------------------------------------\n",
      "Canadian breakthrough offers hope on autism\n",
      "Valence = 3.88, predicted valence = 3.036067696013572\n",
      "--------------------------------------------------------------------------------------\n",
      "We slammed against the doorway and I was laughing too, the pulse close enough to shake the doorframe and set up vibrations in my chest, Rachel in my arms because she’d used me to soften her landing.\n",
      "Valence = 4.1, predicted valence = 2.8976641154777454\n",
      "--------------------------------------------------------------------------------------\n",
      "The proverbial hospitality and warm welcome are still here.\n",
      "Valence = 3.75, predicted valence = 3.188260670633294\n"
     ]
    }
   ],
   "source": [
    "for i in [4455, 4618, 3871, 2613]:\n",
    "    print('--------------------------------------------------------------------------------------')\n",
    "    val_word = test_1['V_words'][i]\n",
    "    val, pred = test_1['V'][i], val_word*a_val + b_val\n",
    "    print(test_1['text'][i])\n",
    "    print('Valence = {}, predicted valence = {}'.format(val,pred))"
   ]
  },
  {
   "cell_type": "markdown",
   "metadata": {},
   "source": [
    "Finally, for arrousal and dominance we have the following errors"
   ]
  },
  {
   "cell_type": "code",
   "execution_count": 91,
   "metadata": {},
   "outputs": [
    {
     "name": "stdout",
     "output_type": "stream",
     "text": [
      "Mean squared error of approach 1 for valence = 0.05831941043231876\n",
      "Mean squared error of approach 1 for valence = 0.0436326241882095\n"
     ]
    }
   ],
   "source": [
    "a_arr, b_arr = estimate_coef(train_1['A_words'], train_1['A'])\n",
    "a_dom, b_dom = estimate_coef(train_1['D_words'], train_1['D'])\n",
    "prediction_1_arr, prediction_1_dom = [], []\n",
    "for i in test_1['A_words']:\n",
    "    prediction_1_arr.append(a_arr*i + b_arr)\n",
    "for i in test_1['D_words']:\n",
    "    prediction_1_dom.append(a_dom*i + b_dom)\n",
    "MSE_Arr = ((prediction_1_arr - test_1['A'].values)**2).mean()\n",
    "print('Mean squared error of approach 1 for valence = '+str(MSE_Arr))\n",
    "MSE_Dom = ((prediction_1_dom - test_1['D'].values)**2).mean()\n",
    "print('Mean squared error of approach 1 for valence = '+str(MSE_Dom))"
   ]
  },
  {
   "cell_type": "code",
   "execution_count": null,
   "metadata": {},
   "outputs": [],
   "source": []
  }
 ],
 "metadata": {
  "kernelspec": {
   "display_name": "Python 3.7 (ST7)",
   "language": "python",
   "name": "st7"
  },
  "language_info": {
   "codemirror_mode": {
    "name": "ipython",
    "version": 3
   },
   "file_extension": ".py",
   "mimetype": "text/x-python",
   "name": "python",
   "nbconvert_exporter": "python",
   "pygments_lexer": "ipython3",
   "version": "3.7.6"
  }
 },
 "nbformat": 4,
 "nbformat_minor": 4
}
